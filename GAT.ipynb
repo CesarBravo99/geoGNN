{
 "cells": [
  {
   "cell_type": "code",
   "execution_count": 2,
   "metadata": {
    "colab": {
     "base_uri": "https://localhost:8080/",
     "height": 0
    },
    "colab_type": "code",
    "execution": {
     "iopub.execute_input": "2023-12-21T16:07:39.232265Z",
     "iopub.status.busy": "2023-12-21T16:07:39.231841Z",
     "iopub.status.idle": "2023-12-21T16:20:48.234663Z",
     "shell.execute_reply": "2023-12-21T16:20:48.233292Z",
     "shell.execute_reply.started": "2023-12-21T16:07:39.232223Z"
    },
    "id": "_QG_HXLziWWn",
    "outputId": "285b2611-f5e8-4b61-b56e-34093441de27"
   },
   "outputs": [
    {
     "name": "stdout",
     "output_type": "stream",
     "text": [
      "Collecting torch-scatter\n",
      "  Downloading torch_scatter-2.1.2.tar.gz (108 kB)\n",
      "\u001b[2K     \u001b[90m━━━━━━━━━━━━━━━━━━━━━━━━━━━━━━━━━━━━━━\u001b[0m \u001b[32m108.0/108.0 kB\u001b[0m \u001b[31m16.9 MB/s\u001b[0m eta \u001b[36m0:00:00\u001b[0m\n",
      "\u001b[?25h  Preparing metadata (setup.py) ... \u001b[?25ldone\n",
      "\u001b[?25hBuilding wheels for collected packages: torch-scatter\n",
      "  Building wheel for torch-scatter (setup.py) ... \u001b[?25ldone\n",
      "\u001b[?25h  Created wheel for torch-scatter: filename=torch_scatter-2.1.2-cp39-cp39-linux_x86_64.whl size=3246013 sha256=254dd34bca138425cc1071f7f0855d77dbfb5223792b6156361ba398de68d62e\n",
      "  Stored in directory: /root/.cache/pip/wheels/ce/93/4d/e0ac930bf835875dc2ee0e72a181de0b7fca3c4c6f2fe9188f\n",
      "Successfully built torch-scatter\n",
      "Installing collected packages: torch-scatter\n",
      "Successfully installed torch-scatter-2.1.2\n",
      "\u001b[33mWARNING: Running pip as the 'root' user can result in broken permissions and conflicting behaviour with the system package manager. It is recommended to use a virtual environment instead: https://pip.pypa.io/warnings/venv\u001b[0m\u001b[33m\n",
      "\u001b[0m"
     ]
    }
   ],
   "source": [
    "!pip install torch-scatter"
   ]
  },
  {
   "cell_type": "code",
   "execution_count": 1,
   "metadata": {
    "colab": {},
    "colab_type": "code",
    "execution": {
     "iopub.execute_input": "2023-12-21T16:07:11.285494Z",
     "iopub.status.busy": "2023-12-21T16:07:11.284728Z",
     "iopub.status.idle": "2023-12-21T16:07:13.509235Z",
     "shell.execute_reply": "2023-12-21T16:07:13.508014Z",
     "shell.execute_reply.started": "2023-12-21T16:07:11.285466Z"
    },
    "id": "CRHi8vpymFci"
   },
   "outputs": [
    {
     "ename": "ModuleNotFoundError",
     "evalue": "No module named 'torch_scatter'",
     "output_type": "error",
     "traceback": [
      "\u001b[0;31m---------------------------------------------------------------------------\u001b[0m",
      "\u001b[0;31mModuleNotFoundError\u001b[0m                       Traceback (most recent call last)",
      "Cell \u001b[0;32mIn [1], line 16\u001b[0m\n\u001b[1;32m     14\u001b[0m \u001b[38;5;28;01mimport\u001b[39;00m \u001b[38;5;21;01mpickle\u001b[39;00m\n\u001b[1;32m     15\u001b[0m \u001b[38;5;28;01mimport\u001b[39;00m \u001b[38;5;21;01mpandas\u001b[39;00m \u001b[38;5;28;01mas\u001b[39;00m \u001b[38;5;21;01mpd\u001b[39;00m\n\u001b[0;32m---> 16\u001b[0m \u001b[38;5;28;01mimport\u001b[39;00m \u001b[38;5;21;01mtorch_scatter\u001b[39;00m\n\u001b[1;32m     17\u001b[0m \u001b[38;5;28;01mfrom\u001b[39;00m \u001b[38;5;21;01mcollections\u001b[39;00m \u001b[38;5;28;01mimport\u001b[39;00m Counter\n\u001b[1;32m     19\u001b[0m \u001b[38;5;28;01mfrom\u001b[39;00m \u001b[38;5;21;01msrc\u001b[39;00m\u001b[38;5;21;01m.\u001b[39;00m\u001b[38;5;21;01mGAT\u001b[39;00m \u001b[38;5;28;01mimport\u001b[39;00m \u001b[38;5;241m*\u001b[39m\n",
      "\u001b[0;31mModuleNotFoundError\u001b[0m: No module named 'torch_scatter'"
     ]
    }
   ],
   "source": [
    "import os\n",
    "import urllib\n",
    "import torch\n",
    "import torch.nn as nn\n",
    "import torch.nn.init as init\n",
    "import torch.nn.functional as F\n",
    "import torch.utils.data as data\n",
    "import torch.optim as optim\n",
    "import matplotlib.pyplot as plt\n",
    "\n",
    "import numpy as np\n",
    "import scipy.sparse as sp\n",
    "from zipfile import ZipFile\n",
    "import pickle\n",
    "import pandas as pd\n",
    "import torch_scatter\n",
    "from collections import Counter\n",
    "\n",
    "from src.GAT import *\n",
    "from data.DD.DD import DDDataset\n"
   ]
  },
  {
   "cell_type": "markdown",
   "metadata": {
    "colab_type": "text",
    "id": "O-VeHbOJxHYy"
   },
   "source": [
    "D&D is a dataset of 1178 protein structures (Dobson and Doig, 2003). Each protein is represented by a graph, in which the nodes are amino acids and two nodes are connected by an edge if they are less than 6 Angstroms apart. The prediction task is to classify the protein structures into enzymes and non-enzymes.\n",
    "\n"
   ]
  },
  {
   "cell_type": "code",
   "execution_count": 3,
   "metadata": {
    "colab": {
     "base_uri": "https://localhost:8080/",
     "height": 102
    },
    "colab_type": "code",
    "execution": {
     "iopub.execute_input": "2023-12-21T15:39:17.057859Z",
     "iopub.status.busy": "2023-12-21T15:39:17.056987Z",
     "iopub.status.idle": "2023-12-21T15:39:25.111741Z",
     "shell.execute_reply": "2023-12-21T15:39:25.110331Z",
     "shell.execute_reply.started": "2023-12-21T15:39:17.057830Z"
    },
    "id": "unoZOcTqeFuI",
    "outputId": "31966846-ddf9-46e2-d561-8ff951556a7e"
   },
   "outputs": [
    {
     "name": "stdout",
     "output_type": "stream",
     "text": [
      "/notebooks/GNN/data\n",
      "Loading DD_A.txt\n",
      "Loading DD_node_labels.txt\n",
      "Loading DD_graph_indicator.txt\n",
      "Loading DD_graph_labels.txt\n",
      "Number of nodes:  334925\n"
     ]
    }
   ],
   "source": [
    "dataset = DDDataset()"
   ]
  },
  {
   "cell_type": "code",
   "execution_count": 4,
   "metadata": {
    "colab": {},
    "colab_type": "code",
    "execution": {
     "iopub.execute_input": "2023-12-21T15:39:25.114850Z",
     "iopub.status.busy": "2023-12-21T15:39:25.113722Z",
     "iopub.status.idle": "2023-12-21T15:39:27.257685Z",
     "shell.execute_reply": "2023-12-21T15:39:27.256828Z",
     "shell.execute_reply.started": "2023-12-21T15:39:25.114808Z"
    },
    "id": "XLXGbQvHiiMT"
   },
   "outputs": [],
   "source": [
    "DEVICE = \"cuda\" if torch.cuda.is_available() else \"cpu\"\n",
    "adjacency = dataset.sparse_adjacency\n",
    "normalize_adjacency = normalization(adjacency).to(DEVICE)\n",
    "node_labels = tensor_from_numpy(dataset.node_labels, DEVICE)\n",
    "node_features = F.one_hot(node_labels, node_labels.max().item() + 1).float()\n",
    "graph_indicator = tensor_from_numpy(dataset.graph_indicator, DEVICE)\n",
    "graph_labels = tensor_from_numpy(dataset.graph_labels, DEVICE)\n",
    "train_index = tensor_from_numpy(dataset.train_index, DEVICE)\n",
    "test_index = tensor_from_numpy(dataset.test_index, DEVICE)\n",
    "train_label = tensor_from_numpy(dataset.train_label, DEVICE)\n",
    "test_label = tensor_from_numpy(dataset.test_label, DEVICE)\n"
   ]
  },
  {
   "cell_type": "code",
   "execution_count": 5,
   "metadata": {
    "colab": {},
    "colab_type": "code",
    "execution": {
     "iopub.execute_input": "2023-12-21T15:39:27.259490Z",
     "iopub.status.busy": "2023-12-21T15:39:27.258939Z",
     "iopub.status.idle": "2023-12-21T15:39:27.263848Z",
     "shell.execute_reply": "2023-12-21T15:39:27.262997Z",
     "shell.execute_reply.started": "2023-12-21T15:39:27.259459Z"
    },
    "id": "BQv_zcThATJk"
   },
   "outputs": [],
   "source": [
    "INPUT_DIM = node_features.size(1)\n",
    "NUM_CLASSES = 2\n",
    "EPOCHS = 200\n",
    "HIDDEN_DIM = 32\n",
    "LEARNING_RATE = 1e-3\n",
    "WEIGHT_DECAY = 5e-4"
   ]
  },
  {
   "cell_type": "code",
   "execution_count": 6,
   "metadata": {
    "colab": {},
    "colab_type": "code",
    "execution": {
     "iopub.execute_input": "2023-12-21T15:39:27.266892Z",
     "iopub.status.busy": "2023-12-21T15:39:27.265772Z",
     "iopub.status.idle": "2023-12-21T15:39:27.275999Z",
     "shell.execute_reply": "2023-12-21T15:39:27.275120Z",
     "shell.execute_reply.started": "2023-12-21T15:39:27.266848Z"
    },
    "id": "p9xjOe4gg4hV"
   },
   "outputs": [],
   "source": [
    "model_g = ModelA(INPUT_DIM, HIDDEN_DIM, NUM_CLASSES).to(DEVICE)\n",
    "model_h = ModelB(INPUT_DIM, HIDDEN_DIM, NUM_CLASSES).to(DEVICE)"
   ]
  },
  {
   "cell_type": "code",
   "execution_count": 7,
   "metadata": {
    "colab": {},
    "colab_type": "code",
    "execution": {
     "iopub.execute_input": "2023-12-21T15:39:27.277645Z",
     "iopub.status.busy": "2023-12-21T15:39:27.276998Z",
     "iopub.status.idle": "2023-12-21T15:39:27.282125Z",
     "shell.execute_reply": "2023-12-21T15:39:27.281050Z",
     "shell.execute_reply.started": "2023-12-21T15:39:27.277599Z"
    },
    "id": "B5cDpOhEtdcS"
   },
   "outputs": [],
   "source": [
    "model = model_g"
   ]
  },
  {
   "cell_type": "code",
   "execution_count": 8,
   "metadata": {
    "colab": {
     "base_uri": "https://localhost:8080/",
     "height": 221
    },
    "colab_type": "code",
    "execution": {
     "iopub.execute_input": "2023-12-21T15:39:27.284688Z",
     "iopub.status.busy": "2023-12-21T15:39:27.283589Z",
     "iopub.status.idle": "2023-12-21T15:39:27.290305Z",
     "shell.execute_reply": "2023-12-21T15:39:27.288875Z",
     "shell.execute_reply.started": "2023-12-21T15:39:27.284652Z"
    },
    "id": "myPjiGN-6qxk",
    "outputId": "2eb3d30a-a687-4e6d-94fa-7227ea3846b2"
   },
   "outputs": [
    {
     "name": "stdout",
     "output_type": "stream",
     "text": [
      "Device: cuda\n",
      "ModelA(\n",
      "  (gcn1): GraphConvolution (89 -> 32)\n",
      "  (gcn2): GraphConvolution (32 -> 32)\n",
      "  (gcn3): GraphConvolution (32 -> 32)\n",
      "  (pool): SelfAttentionPooling(\n",
      "    (attn_gcn): GraphConvolution (96 -> 1)\n",
      "  )\n",
      "  (fc1): Linear(in_features=192, out_features=32, bias=True)\n",
      "  (fc2): Linear(in_features=32, out_features=16, bias=True)\n",
      "  (fc3): Linear(in_features=16, out_features=2, bias=True)\n",
      ")\n"
     ]
    }
   ],
   "source": [
    "print(\"Device:\", DEVICE)\n",
    "print(model)"
   ]
  },
  {
   "cell_type": "code",
   "execution_count": 13,
   "metadata": {
    "colab": {
     "base_uri": "https://localhost:8080/",
     "height": 1000
    },
    "colab_type": "code",
    "execution": {
     "iopub.execute_input": "2023-12-21T15:42:13.587322Z",
     "iopub.status.busy": "2023-12-21T15:42:13.586968Z",
     "iopub.status.idle": "2023-12-21T15:44:33.954537Z",
     "shell.execute_reply": "2023-12-21T15:44:33.953426Z",
     "shell.execute_reply.started": "2023-12-21T15:42:13.587296Z"
    },
    "id": "gtGt1GXDsS1c",
    "outputId": "3c47b6f4-58b7-4fa6-ba27-9bb1a101726e"
   },
   "outputs": [
    {
     "name": "stdout",
     "output_type": "stream",
     "text": [
      "Epoch 000: Loss 0.4257, TrainAcc 0.8355\n",
      "Epoch 010: Loss 0.4362, TrainAcc 0.8259\n",
      "Epoch 020: Loss 0.4401, TrainAcc 0.8217\n",
      "Epoch 030: Loss 0.4347, TrainAcc 0.8312\n",
      "Epoch 040: Loss 0.4261, TrainAcc 0.8344\n",
      "Epoch 050: Loss 0.4230, TrainAcc 0.8386\n",
      "Epoch 060: Loss 0.4188, TrainAcc 0.8408\n",
      "Epoch 070: Loss 0.4158, TrainAcc 0.8408\n",
      "Epoch 080: Loss 0.4125, TrainAcc 0.8418\n",
      "Epoch 090: Loss 0.4088, TrainAcc 0.845\n",
      "Epoch 100: Loss 0.4049, TrainAcc 0.845\n",
      "Epoch 110: Loss 0.4006, TrainAcc 0.8471\n",
      "Epoch 120: Loss 0.3959, TrainAcc 0.8482\n",
      "Epoch 130: Loss 0.3904, TrainAcc 0.8493\n",
      "Epoch 140: Loss 0.3842, TrainAcc 0.8493\n",
      "Epoch 150: Loss 0.3775, TrainAcc 0.8514\n",
      "Epoch 160: Loss 0.3686, TrainAcc 0.8524\n",
      "Epoch 170: Loss 0.3575, TrainAcc 0.8546\n",
      "Epoch 180: Loss 0.3468, TrainAcc 0.8567\n",
      "Epoch 190: Loss 0.3372, TrainAcc 0.8567\n"
     ]
    }
   ],
   "source": [
    "criterion = nn.CrossEntropyLoss().to(DEVICE)\n",
    "optimizer = optim.Adam(model.parameters(), LEARNING_RATE, weight_decay=WEIGHT_DECAY)\n",
    "\n",
    "model.train()\n",
    "accuracy = []\n",
    "for epoch in range(EPOCHS):\n",
    "    logits = model(normalize_adjacency, node_features, graph_indicator)\n",
    "    loss = criterion(logits[train_index], train_label)\n",
    "    optimizer.zero_grad()\n",
    "    loss.backward()\n",
    "    optimizer.step()\n",
    "    train_acc = torch.eq(logits[train_index].max(1)[1], train_label).float().mean()\n",
    "    accuracy.append(train_acc.cpu().numpy())\n",
    "    if epoch%10 == 0:\n",
    "        print(\"Epoch {:03d}: Loss {:.4f}, TrainAcc {:.4}\".format(\n",
    "            epoch, loss.item(), train_acc.item()))\n"
   ]
  },
  {
   "cell_type": "code",
   "execution_count": 11,
   "metadata": {
    "colab": {
     "base_uri": "https://localhost:8080/",
     "height": 34
    },
    "colab_type": "code",
    "execution": {
     "iopub.execute_input": "2023-12-21T15:41:53.319906Z",
     "iopub.status.busy": "2023-12-21T15:41:53.318976Z",
     "iopub.status.idle": "2023-12-21T15:41:53.930399Z",
     "shell.execute_reply": "2023-12-21T15:41:53.929145Z",
     "shell.execute_reply.started": "2023-12-21T15:41:53.319856Z"
    },
    "id": "foY0A1iAuFAR",
    "outputId": "be9fa76a-51c2-448f-c2b9-a4576a83a398"
   },
   "outputs": [
    {
     "name": "stdout",
     "output_type": "stream",
     "text": [
      "0.7288135886192322\n"
     ]
    }
   ],
   "source": [
    "model.eval()\n",
    "with torch.no_grad():\n",
    "    logits = model(normalize_adjacency, node_features, graph_indicator)\n",
    "    test_logits = logits[test_index]\n",
    "    test_acc = torch.eq(test_logits.max(1)[1], test_label).float().mean()\n",
    "print(test_acc.item())"
   ]
  },
  {
   "cell_type": "code",
   "execution_count": 22,
   "metadata": {
    "colab": {},
    "colab_type": "code",
    "execution": {
     "iopub.execute_input": "2023-12-21T15:47:42.139193Z",
     "iopub.status.busy": "2023-12-21T15:47:42.138322Z",
     "iopub.status.idle": "2023-12-21T15:47:42.566003Z",
     "shell.execute_reply": "2023-12-21T15:47:42.565004Z",
     "shell.execute_reply.started": "2023-12-21T15:47:42.139163Z"
    },
    "id": "ivo1wTiJu8Dm"
   },
   "outputs": [
    {
     "data": {
      "text/plain": [
       "Text(0.5, 1.0, '0.8609342')"
      ]
     },
     "execution_count": 22,
     "metadata": {},
     "output_type": "execute_result"
    },
    {
     "data": {
      "image/png": "[encoded data removed]",
      "text/plain": [
       "<Figure size 640x480 with 1 Axes>"
      ]
     },
     "metadata": {},
     "output_type": "display_data"
    }
   ],
   "source": [
    "plt.plot(acc)\n",
    "plt.title(acc[-1])"
   ]
  },
  {
   "cell_type": "code",
   "execution_count": null,
   "metadata": {},
   "outputs": [],
   "source": []
  }
 ],
 "metadata": {
  "accelerator": "GPU",
  "colab": {
   "collapsed_sections": [
    "HxUtAD83iXXM",
    "uMVXEMXHmMcA",
    "6mMFB9HwmjQr",
    "FYxVK6Joot3b",
    "5qI94Tc3o0e3",
    "v1LbdCBEpM_j",
    "eYLIUNfHpW99"
   ],
   "name": "self_attn_pool.ipynb",
   "provenance": []
  },
  "kernelspec": {
   "display_name": "Python 3 (ipykernel)",
   "language": "python",
   "name": "python3"
  },
  "language_info": {
   "codemirror_mode": {
    "name": "ipython",
    "version": 3
   },
   "file_extension": ".py",
   "mimetype": "text/x-python",
   "name": "python",
   "nbconvert_exporter": "python",
   "pygments_lexer": "ipython3",
   "version": "3.9.16"
  }
 },
 "nbformat": 4,
 "nbformat_minor": 4
}
