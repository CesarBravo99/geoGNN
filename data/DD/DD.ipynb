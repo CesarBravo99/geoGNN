{
 "cells": [
  {
   "cell_type": "code",
   "execution_count": 1,
   "id": "9db68e6d-b69b-477a-a24d-917ea6c9dd04",
   "metadata": {
    "execution": {
     "iopub.execute_input": "2023-12-26T05:22:39.769149Z",
     "iopub.status.busy": "2023-12-26T05:22:39.768393Z",
     "iopub.status.idle": "2023-12-26T05:22:40.231566Z",
     "shell.execute_reply": "2023-12-26T05:22:40.230647Z",
     "shell.execute_reply.started": "2023-12-26T05:22:39.769120Z"
    }
   },
   "outputs": [],
   "source": [
    "import os\n",
    "import numpy as np\n",
    "import scipy.sparse as sp\n",
    "from sklearn.model_selection import train_test_split\n",
    "from DD import DDDataset"
   ]
  },
  {
   "cell_type": "code",
   "execution_count": 2,
   "id": "a7b6f646-6d57-41c4-9a8c-614fcc417f33",
   "metadata": {
    "execution": {
     "iopub.execute_input": "2023-12-26T05:22:40.233968Z",
     "iopub.status.busy": "2023-12-26T05:22:40.233266Z",
     "iopub.status.idle": "2023-12-26T05:22:49.895766Z",
     "shell.execute_reply": "2023-12-26T05:22:49.894809Z",
     "shell.execute_reply.started": "2023-12-26T05:22:40.233941Z"
    }
   },
   "outputs": [
    {
     "name": "stdout",
     "output_type": "stream",
     "text": [
      "/notebooks/data\n",
      "Downloading data from https://ls11-www.cs.tu-dortmund.de/people/morris/graphkerneldatasets/DD.zip\n",
      "Extracting data from /notebooks/data/DD/DD.zip\n",
      "Loading DD_A.txt\n",
      "Loading DD_node_labels.txt\n",
      "Loading DD_graph_indicator.txt\n",
      "Loading DD_graph_labels.txt\n",
      "Number of nodes:  334925\n"
     ]
    }
   ],
   "source": [
    "dataset = DDDataset(\"/notebooks/data\", 0.8, True)"
   ]
  },
  {
   "cell_type": "code",
   "execution_count": null,
   "id": "ce820e8b-37e5-40d5-bd60-f97d060e6403",
   "metadata": {},
   "outputs": [],
   "source": [
    "\n",
    "adjacency = dataset.sparse_adjacency\n",
    "normalize_adjacency = normalization(adjacency).to(DEVICE)\n",
    "\n",
    "node_labels = tensor_from_numpy(dataset.node_labels, DEVICE)\n",
    "node_features = F.one_hot(node_labels, node_labels.max().item() + 1).float()\n",
    "\n",
    "graph_indicator = tensor_from_numpy(dataset.graph_indicator, DEVICE)\n",
    "graph_labels = tensor_from_numpy(dataset.graph_labels, DEVICE)\n",
    "train_index = tensor_from_numpy(dataset.train_index, DEVICE)\n",
    "test_index = tensor_from_numpy(dataset.test_index, DEVICE)\n",
    "train_label = tensor_from_numpy(dataset.train_label, DEVICE)\n",
    "test_label = tensor_from_numpy(dataset.test_label, DEVICE)\n"
   ]
  }
 ],
 "metadata": {
  "kernelspec": {
   "display_name": "Python 3 (ipykernel)",
   "language": "python",
   "name": "python3"
  },
  "language_info": {
   "codemirror_mode": {
    "name": "ipython",
    "version": 3
   },
   "file_extension": ".py",
   "mimetype": "text/x-python",
   "name": "python",
   "nbconvert_exporter": "python",
   "pygments_lexer": "ipython3",
   "version": "3.9.16"
  }
 },
 "nbformat": 4,
 "nbformat_minor": 5
}
