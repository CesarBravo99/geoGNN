{
 "cells": [
  {
   "cell_type": "code",
   "execution_count": 2,
   "id": "82599d65-f899-46c2-af32-6a6f4b3c0d8f",
   "metadata": {
    "execution": {
     "iopub.execute_input": "2023-12-26T06:48:05.549835Z",
     "iopub.status.busy": "2023-12-26T06:48:05.549491Z",
     "iopub.status.idle": "2023-12-26T06:48:09.689622Z",
     "shell.execute_reply": "2023-12-26T06:48:09.688580Z",
     "shell.execute_reply.started": "2023-12-26T06:48:05.549808Z"
    }
   },
   "outputs": [
    {
     "name": "stdout",
     "output_type": "stream",
     "text": [
      "Collecting torch_geometric\n",
      "  Downloading torch_geometric-2.4.0-py3-none-any.whl (1.0 MB)\n",
      "\u001b[2K     \u001b[90m━━━━━━━━━━━━━━━━━━━━━━━━━━━━━━━━━━━━━━━━\u001b[0m \u001b[32m1.0/1.0 MB\u001b[0m \u001b[31m56.9 MB/s\u001b[0m eta \u001b[36m0:00:00\u001b[0m\n",
      "\u001b[?25hRequirement already satisfied: psutil>=5.8.0 in /usr/local/lib/python3.9/dist-packages (from torch_geometric) (5.9.4)\n",
      "Requirement already satisfied: requests in /usr/local/lib/python3.9/dist-packages (from torch_geometric) (2.28.2)\n",
      "Requirement already satisfied: scipy in /usr/local/lib/python3.9/dist-packages (from torch_geometric) (1.9.2)\n",
      "Requirement already satisfied: tqdm in /usr/local/lib/python3.9/dist-packages (from torch_geometric) (4.64.1)\n",
      "Requirement already satisfied: scikit-learn in /usr/local/lib/python3.9/dist-packages (from torch_geometric) (1.1.2)\n",
      "Requirement already satisfied: jinja2 in /usr/local/lib/python3.9/dist-packages (from torch_geometric) (3.1.2)\n",
      "Requirement already satisfied: numpy in /usr/local/lib/python3.9/dist-packages (from torch_geometric) (1.23.4)\n",
      "Requirement already satisfied: pyparsing in /usr/local/lib/python3.9/dist-packages (from torch_geometric) (3.0.9)\n",
      "Requirement already satisfied: MarkupSafe>=2.0 in /usr/local/lib/python3.9/dist-packages (from jinja2->torch_geometric) (2.1.2)\n",
      "Requirement already satisfied: urllib3<1.27,>=1.21.1 in /usr/local/lib/python3.9/dist-packages (from requests->torch_geometric) (1.26.14)\n",
      "Requirement already satisfied: certifi>=2017.4.17 in /usr/lib/python3/dist-packages (from requests->torch_geometric) (2019.11.28)\n",
      "Requirement already satisfied: idna<4,>=2.5 in /usr/lib/python3/dist-packages (from requests->torch_geometric) (2.8)\n",
      "Requirement already satisfied: charset-normalizer<4,>=2 in /usr/local/lib/python3.9/dist-packages (from requests->torch_geometric) (2.1.1)\n",
      "Requirement already satisfied: joblib>=1.0.0 in /usr/local/lib/python3.9/dist-packages (from scikit-learn->torch_geometric) (1.2.0)\n",
      "Requirement already satisfied: threadpoolctl>=2.0.0 in /usr/local/lib/python3.9/dist-packages (from scikit-learn->torch_geometric) (3.1.0)\n",
      "Installing collected packages: torch_geometric\n",
      "Successfully installed torch_geometric-2.4.0\n",
      "\u001b[33mWARNING: Running pip as the 'root' user can result in broken permissions and conflicting behaviour with the system package manager. It is recommended to use a virtual environment instead: https://pip.pypa.io/warnings/venv\u001b[0m\u001b[33m\n",
      "\u001b[0m"
     ]
    }
   ],
   "source": [
    "!pip install torch_geometric"
   ]
  },
  {
   "cell_type": "code",
   "execution_count": 3,
   "id": "2fb67317-45e3-46a0-be78-661c1d561e25",
   "metadata": {
    "execution": {
     "iopub.execute_input": "2023-12-26T06:48:28.929567Z",
     "iopub.status.busy": "2023-12-26T06:48:28.929206Z",
     "iopub.status.idle": "2023-12-26T06:48:29.213959Z",
     "shell.execute_reply": "2023-12-26T06:48:29.213237Z",
     "shell.execute_reply.started": "2023-12-26T06:48:28.929529Z"
    }
   },
   "outputs": [],
   "source": [
    "from typing import List, Optional\n",
    "from torch.utils.data import random_split\n",
    "from torch.utils.data import DataLoader\n",
    "from torch_geometric.datasets import md17\n",
    "from typing import Optional, List, Callable\n",
    "from torch_geometric.data import Data\n",
    "import torch\n",
    "import numpy as np"
   ]
  },
  {
   "cell_type": "code",
   "execution_count": 4,
   "id": "87da1cd9-67be-4cae-8f7d-89f22fd7cd9c",
   "metadata": {
    "execution": {
     "iopub.execute_input": "2023-12-26T06:48:37.132582Z",
     "iopub.status.busy": "2023-12-26T06:48:37.132069Z",
     "iopub.status.idle": "2023-12-26T06:48:37.138391Z",
     "shell.execute_reply": "2023-12-26T06:48:37.137390Z",
     "shell.execute_reply.started": "2023-12-26T06:48:37.132553Z"
    }
   },
   "outputs": [],
   "source": [
    "\n",
    "# preprocess work\n",
    "def collate(batch):\n",
    "    return Data(\n",
    "        pos = torch.cat([data.pos.unsqueeze(0) for data in batch], dim=0),\n",
    "        z = torch.cat([data.z.unsqueeze(0) for data in batch], dim=0),\n",
    "        energy = torch.cat([data.energy for data in batch], dim=0),\n",
    "        force = torch.cat([data.force.unsqueeze(0) for data in batch], dim=0),\n",
    "    )"
   ]
  },
  {
   "cell_type": "code",
   "execution_count": 5,
   "id": "1947a7b6-9e03-4814-8f54-579df608dc7a",
   "metadata": {
    "execution": {
     "iopub.execute_input": "2023-12-26T06:48:47.504023Z",
     "iopub.status.busy": "2023-12-26T06:48:47.503677Z",
     "iopub.status.idle": "2023-12-26T06:48:47.517767Z",
     "shell.execute_reply": "2023-12-26T06:48:47.516766Z",
     "shell.execute_reply.started": "2023-12-26T06:48:47.503996Z"
    }
   },
   "outputs": [],
   "source": [
    "class my_MD17(md17.MD17):\n",
    "    def __init__(\n",
    "        self,\n",
    "        root: str,\n",
    "        name: str,\n",
    "        train: Optional[bool] = None,\n",
    "        transform: Optional[Callable] = None,\n",
    "        pre_transform: Optional[Callable] = None,\n",
    "        pre_filter: Optional[Callable] = None,\n",
    "    ):\n",
    "        super().__init__(root, name, train, transform, pre_transform, pre_filter)\n",
    "        \n",
    "    @property\n",
    "    def processed_file_names(self) -> List[str]:\n",
    "        return ['data.pt']\n",
    "    \n",
    "    def process(self):\n",
    "        it = zip(self.raw_paths, self.processed_paths)\n",
    "        for raw_path, processed_path in it:\n",
    "            raw_data = np.load(raw_path)\n",
    "\n",
    "            if self.revised:\n",
    "                z = torch.from_numpy(raw_data['nuclear_charges']).long()\n",
    "                pos = torch.from_numpy(raw_data['coords']).float()\n",
    "                energy = torch.from_numpy(raw_data['energies']).float()\n",
    "                force = torch.from_numpy(raw_data['forces']).float()\n",
    "            else:\n",
    "                z = torch.from_numpy(raw_data['z']).long()\n",
    "                pos = torch.from_numpy(raw_data['R']).float()\n",
    "                energy = torch.from_numpy(raw_data['E']).float()\n",
    "                force = torch.from_numpy(raw_data['F']).float()\n",
    "\n",
    "            data_list = []\n",
    "            import tqdm\n",
    "            for i in tqdm.tqdm(range(pos.size(0))):\n",
    "                data = Data(z=z, pos=pos[i], energy=energy[i], force=force[i])\n",
    "                if self.pre_filter is not None and not self.pre_filter(data):\n",
    "                    continue\n",
    "                if self.pre_transform is not None:\n",
    "                    data = self.pre_transform(data)\n",
    "                data_list.append(data)\n",
    "\n",
    "            torch.save(self.collate(data_list), processed_path)\n",
    "    \n",
    "    \n",
    "def md17_datawork(\n",
    "    root: str, \n",
    "    name: str,\n",
    "    batch_size: List[int],\n",
    "    **kwargs\n",
    "    ):\n",
    "    revised = 'revised' in name\n",
    "\n",
    "    data_point_num = [950, 50] if revised else [1000, 1000] \n",
    "    \n",
    "    # get dataset and collate function.\n",
    "    dataset = my_MD17(root=root, name=name)\n",
    "    # get meta data\n",
    "    global_y_mean = dataset.data.energy.mean()\n",
    "    global_y_std = dataset.data.energy.std()\n",
    "\n",
    "    # get basic configs\n",
    "    train_data_num, val_data_num = data_point_num\n",
    "    test_data_num = len(dataset) - train_data_num - val_data_num\n",
    "    train_batch_size, val_batch_size, test_batch_size = batch_size\n",
    "    \n",
    "    # random_split dataset\n",
    "    train_dataset, val_dataset, test_dataset = random_split(\n",
    "        dataset, \n",
    "        [train_data_num, \n",
    "        val_data_num, \n",
    "        test_data_num]\n",
    "        )\n",
    "    \n",
    "    \n",
    "    # get dataloaders\n",
    "    train_dataloader, val_dataloader, test_dataloader = (\n",
    "        DataLoader(train_dataset, num_workers=8, batch_size=train_batch_size, persistent_workers=True, shuffle=True, collate_fn=collate),\n",
    "        DataLoader(val_dataset, num_workers=4, batch_size=val_batch_size, persistent_workers=True, shuffle=False, collate_fn=collate),\n",
    "        DataLoader(test_dataset, num_workers=4, batch_size=test_batch_size, persistent_workers=True, shuffle=False, collate_fn=collate),\n",
    "    )\n",
    "    \n",
    "    return train_dataloader, val_dataloader, test_dataloader, global_y_mean, global_y_std\n"
   ]
  },
  {
   "cell_type": "code",
   "execution_count": null,
   "id": "6ea4bdd0-64fe-4cd6-b3e1-bdd44a25f6b0",
   "metadata": {},
   "outputs": [],
   "source": []
  }
 ],
 "metadata": {
  "kernelspec": {
   "display_name": "Python 3 (ipykernel)",
   "language": "python",
   "name": "python3"
  },
  "language_info": {
   "codemirror_mode": {
    "name": "ipython",
    "version": 3
   },
   "file_extension": ".py",
   "mimetype": "text/x-python",
   "name": "python",
   "nbconvert_exporter": "python",
   "pygments_lexer": "ipython3",
   "version": "3.9.16"
  }
 },
 "nbformat": 4,
 "nbformat_minor": 5
}
