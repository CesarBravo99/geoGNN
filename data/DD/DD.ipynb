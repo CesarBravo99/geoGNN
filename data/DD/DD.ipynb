{
 "cells": [
  {
   "cell_type": "code",
   "execution_count": 10,
   "id": "9db68e6d-b69b-477a-a24d-917ea6c9dd04",
   "metadata": {
    "execution": {
     "iopub.execute_input": "2023-12-26T06:33:22.871283Z",
     "iopub.status.busy": "2023-12-26T06:33:22.870449Z",
     "iopub.status.idle": "2023-12-26T06:33:22.874950Z",
     "shell.execute_reply": "2023-12-26T06:33:22.874270Z",
     "shell.execute_reply.started": "2023-12-26T06:33:22.871249Z"
    }
   },
   "outputs": [],
   "source": [
    "import os\n",
    "import numpy as np\n",
    "import scipy.sparse as sp\n",
    "from sklearn.model_selection import train_test_split\n",
    "from DD import DDDataset"
   ]
  },
  {
   "cell_type": "code",
   "execution_count": 11,
   "id": "a7b6f646-6d57-41c4-9a8c-614fcc417f33",
   "metadata": {
    "execution": {
     "iopub.execute_input": "2023-12-26T06:33:23.470538Z",
     "iopub.status.busy": "2023-12-26T06:33:23.469856Z",
     "iopub.status.idle": "2023-12-26T06:33:31.171008Z",
     "shell.execute_reply": "2023-12-26T06:33:31.170286Z",
     "shell.execute_reply.started": "2023-12-26T06:33:23.470510Z"
    }
   },
   "outputs": [
    {
     "name": "stdout",
     "output_type": "stream",
     "text": [
      "/notebooks/data\n",
      "Downloading data from https://ls11-www.cs.tu-dortmund.de/people/morris/graphkerneldatasets/DD.zip\n",
      "Extracting data from /notebooks/data/DD/DD.zip\n",
      "Loading DD_A.txt\n",
      "Loading DD_node_labels.txt\n",
      "Loading DD_graph_indicator.txt\n",
      "Loading DD_graph_labels.txt\n",
      "Number of graphs:  1178\n",
      "Number of nodes:  334925\n",
      "Number of links:  1686092\n"
     ]
    }
   ],
   "source": [
    "dataset = DDDataset(\"/notebooks/data\", 0.8, True)"
   ]
  },
  {
   "cell_type": "markdown",
   "id": "1a7ac95f-0017-4ad8-a514-498f2800da10",
   "metadata": {},
   "source": [
    "D&D is a dataset of __1178 protein structures__ (Dobson and Doig, 2003). Each protein is \n",
    "represented by a graph, in which the nodes are amino acids and two nodes are connected \n",
    "by an edge if they are less than 6 Angstroms apart. __The prediction task is to classify \n",
    "the protein structures into enzymes and non-enzymes__.\n",
    "\n",
    "All the data is contained in the following files\n",
    "1. `DD_A.txt`: Matrix of $1.686.092\\times 2$ where each row represents a node link (node_id, node_id)\n",
    "\n",
    "2. `DD_graph_indicator.txt`: Matrix of $334.925\\times 2$ where each row contains the graph_id and the node_id\n",
    "\n",
    "3. `DD_graph_labels.txt`: Vector of $1.178$ which contains the class labels for all graphs in the dataset, the value in the i-th line is the class label of the graph with graph_id i\n",
    "\n",
    "4. `DD_node_labels.txt`: Vector of $334.925$ with node labels, the value in the i-th row corresponds to the node with node_id i"
   ]
  },
  {
   "cell_type": "code",
   "execution_count": 12,
   "id": "ce820e8b-37e5-40d5-bd60-f97d060e6403",
   "metadata": {
    "execution": {
     "iopub.execute_input": "2023-12-26T06:33:31.172781Z",
     "iopub.status.busy": "2023-12-26T06:33:31.172525Z",
     "iopub.status.idle": "2023-12-26T06:33:31.176995Z",
     "shell.execute_reply": "2023-12-26T06:33:31.176362Z",
     "shell.execute_reply.started": "2023-12-26T06:33:31.172754Z"
    }
   },
   "outputs": [
    {
     "name": "stdout",
     "output_type": "stream",
     "text": [
      "Adjacency: (334925, 334925)\n",
      "Node labels: (334925,)\n",
      "Node features: (334925,)\n",
      "Graph indicator: (334925,)\n",
      "Graph labels: (1178,)\n",
      "Train data: (942,)\n",
      "Test data: (236,)\n"
     ]
    }
   ],
   "source": [
    "print(f'Adjacency: {dataset.sparse_adjacency.shape}')\n",
    "print(f'Node labels: {dataset.node_labels.shape}')\n",
    "print(f'Node features: {dataset.node_labels.shape}')\n",
    "print(f'Graph indicator: {dataset.graph_indicator.shape}')\n",
    "print(f'Graph labels: {dataset.graph_labels.shape}')\n",
    "print(f'Train data: {dataset.train_index.shape}')\n",
    "print(f'Test data: {dataset.test_index.shape}')"
   ]
  },
  {
   "cell_type": "code",
   "execution_count": null,
   "id": "7b408cee-2109-49e2-a9ec-beae49257229",
   "metadata": {},
   "outputs": [],
   "source": []
  }
 ],
 "metadata": {
  "kernelspec": {
   "display_name": "Python 3 (ipykernel)",
   "language": "python",
   "name": "python3"
  },
  "language_info": {
   "codemirror_mode": {
    "name": "ipython",
    "version": 3
   },
   "file_extension": ".py",
   "mimetype": "text/x-python",
   "name": "python",
   "nbconvert_exporter": "python",
   "pygments_lexer": "ipython3",
   "version": "3.9.16"
  }
 },
 "nbformat": 4,
 "nbformat_minor": 5
}
