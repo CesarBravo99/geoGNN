{
 "cells": [
  {
   "cell_type": "code",
   "execution_count": 5,
   "id": "17fbda66-7640-4022-834c-9f5edffbe257",
   "metadata": {
    "execution": {
     "iopub.execute_input": "2023-12-26T22:07:00.987450Z",
     "iopub.status.busy": "2023-12-26T22:07:00.987044Z",
     "iopub.status.idle": "2023-12-26T22:07:04.720428Z",
     "shell.execute_reply": "2023-12-26T22:07:04.719088Z",
     "shell.execute_reply.started": "2023-12-26T22:07:00.987408Z"
    }
   },
   "outputs": [
    {
     "name": "stdout",
     "output_type": "stream",
     "text": [
      "Requirement already satisfied: torch_geometric in /usr/local/lib/python3.9/dist-packages (2.4.0)\n",
      "Requirement already satisfied: numpy in /usr/local/lib/python3.9/dist-packages (from torch_geometric) (1.23.4)\n",
      "Requirement already satisfied: scipy in /usr/local/lib/python3.9/dist-packages (from torch_geometric) (1.9.2)\n",
      "Requirement already satisfied: scikit-learn in /usr/local/lib/python3.9/dist-packages (from torch_geometric) (1.1.2)\n",
      "Requirement already satisfied: pyparsing in /usr/local/lib/python3.9/dist-packages (from torch_geometric) (3.0.9)\n",
      "Requirement already satisfied: psutil>=5.8.0 in /usr/local/lib/python3.9/dist-packages (from torch_geometric) (5.9.4)\n",
      "Requirement already satisfied: tqdm in /usr/local/lib/python3.9/dist-packages (from torch_geometric) (4.64.1)\n",
      "Requirement already satisfied: requests in /usr/local/lib/python3.9/dist-packages (from torch_geometric) (2.28.2)\n",
      "Requirement already satisfied: jinja2 in /usr/local/lib/python3.9/dist-packages (from torch_geometric) (3.1.2)\n",
      "Requirement already satisfied: MarkupSafe>=2.0 in /usr/local/lib/python3.9/dist-packages (from jinja2->torch_geometric) (2.1.2)\n",
      "Requirement already satisfied: certifi>=2017.4.17 in /usr/lib/python3/dist-packages (from requests->torch_geometric) (2019.11.28)\n",
      "Requirement already satisfied: urllib3<1.27,>=1.21.1 in /usr/local/lib/python3.9/dist-packages (from requests->torch_geometric) (1.26.14)\n",
      "Requirement already satisfied: idna<4,>=2.5 in /usr/lib/python3/dist-packages (from requests->torch_geometric) (2.8)\n",
      "Requirement already satisfied: charset-normalizer<4,>=2 in /usr/local/lib/python3.9/dist-packages (from requests->torch_geometric) (2.1.1)\n",
      "Requirement already satisfied: threadpoolctl>=2.0.0 in /usr/local/lib/python3.9/dist-packages (from scikit-learn->torch_geometric) (3.1.0)\n",
      "Requirement already satisfied: joblib>=1.0.0 in /usr/local/lib/python3.9/dist-packages (from scikit-learn->torch_geometric) (1.2.0)\n",
      "\u001b[33mWARNING: Running pip as the 'root' user can result in broken permissions and conflicting behaviour with the system package manager. It is recommended to use a virtual environment instead: https://pip.pypa.io/warnings/venv\u001b[0m\u001b[33m\n",
      "\u001b[0m"
     ]
    }
   ],
   "source": [
    "!pip install torch_geometric"
   ]
  },
  {
   "cell_type": "code",
   "execution_count": 6,
   "id": "43926696-a12e-466f-8542-ef1aab857e62",
   "metadata": {
    "execution": {
     "iopub.execute_input": "2023-12-26T22:07:04.723553Z",
     "iopub.status.busy": "2023-12-26T22:07:04.723213Z",
     "iopub.status.idle": "2023-12-26T22:07:04.728431Z",
     "shell.execute_reply": "2023-12-26T22:07:04.727355Z",
     "shell.execute_reply.started": "2023-12-26T22:07:04.723510Z"
    }
   },
   "outputs": [],
   "source": [
    "import numpy as np\n",
    "import torch\n",
    "from torch_geometric.datasets import Planetoid"
   ]
  },
  {
   "cell_type": "code",
   "execution_count": 7,
   "id": "8c11fd48-39a7-4f00-af52-1d7e43e39f37",
   "metadata": {
    "execution": {
     "iopub.execute_input": "2023-12-26T22:07:04.730798Z",
     "iopub.status.busy": "2023-12-26T22:07:04.730419Z",
     "iopub.status.idle": "2023-12-26T22:07:06.475035Z",
     "shell.execute_reply": "2023-12-26T22:07:06.474108Z",
     "shell.execute_reply.started": "2023-12-26T22:07:04.730763Z"
    }
   },
   "outputs": [
    {
     "name": "stderr",
     "output_type": "stream",
     "text": [
      "Downloading https://github.com/kimiyoung/planetoid/raw/master/data/ind.cora.x\n",
      "Downloading https://github.com/kimiyoung/planetoid/raw/master/data/ind.cora.tx\n",
      "Downloading https://github.com/kimiyoung/planetoid/raw/master/data/ind.cora.allx\n",
      "Downloading https://github.com/kimiyoung/planetoid/raw/master/data/ind.cora.y\n",
      "Downloading https://github.com/kimiyoung/planetoid/raw/master/data/ind.cora.ty\n",
      "Downloading https://github.com/kimiyoung/planetoid/raw/master/data/ind.cora.ally\n",
      "Downloading https://github.com/kimiyoung/planetoid/raw/master/data/ind.cora.graph\n",
      "Downloading https://github.com/kimiyoung/planetoid/raw/master/data/ind.cora.test.index\n"
     ]
    }
   ],
   "source": [
    "name = 'Cora'\n",
    "dataset = Planetoid('/notebooks/datasets/Planetoid', name)\n",
    "dataset.process()"
   ]
  },
  {
   "cell_type": "markdown",
   "id": "ff33b1bf-7e39-40d3-8d31-a1bfaa7e7a7d",
   "metadata": {},
   "source": [
    "The Cora dataset consists of __2708 scientific publications__ classified into one of __seven classes (y vector)__. The citation network consists of 5429 links. Each publication in the dataset is described by a 0/1-valued word vector indicating the absence/presence of the corresponding word from the dictionary. The dictionary consists of __1433 unique words (x matrix)__.\n",
    "![cora](CoraBalloons.png) "
   ]
  },
  {
   "cell_type": "code",
   "execution_count": 21,
   "id": "f39ed7c6-1f73-4676-a05f-3587571b2315",
   "metadata": {
    "execution": {
     "iopub.execute_input": "2023-12-26T00:06:57.821286Z",
     "iopub.status.busy": "2023-12-26T00:06:57.820937Z",
     "iopub.status.idle": "2023-12-26T00:06:57.826247Z",
     "shell.execute_reply": "2023-12-26T00:06:57.825186Z",
     "shell.execute_reply.started": "2023-12-26T00:06:57.821259Z"
    }
   },
   "outputs": [],
   "source": [
    "x = data.x # 2708 x 1433 matrix \n",
    "y = data.y # 2708 vector\n",
    "adjacency_dict = data.adjacency_dict # Dict with 2708 keys, the values repr. the neigh.\n",
    "train_mask = data.train_mask # 2708 boolean vector\n",
    "val_mask = data.val_mask # 2708 boolean vector\n",
    "test_mask = data.test_mask # 2708 boolean vector\n"
   ]
  },
  {
   "cell_type": "code",
   "execution_count": 31,
   "id": "34e0f93b-549d-4394-81f0-04cb94bd4625",
   "metadata": {
    "execution": {
     "iopub.execute_input": "2023-12-26T00:19:29.565961Z",
     "iopub.status.busy": "2023-12-26T00:19:29.565570Z",
     "iopub.status.idle": "2023-12-26T00:19:29.571883Z",
     "shell.execute_reply": "2023-12-26T00:19:29.570799Z",
     "shell.execute_reply.started": "2023-12-26T00:19:29.565933Z"
    }
   },
   "outputs": [
    {
     "name": "stdout",
     "output_type": "stream",
     "text": [
      "(2708, 1433)\n",
      "(2708,)\n",
      "[633, 1862, 2582]\n",
      "(2708,)\n",
      "(2708,)\n",
      "(2708,)\n"
     ]
    }
   ],
   "source": [
    "print(x.shape)\n",
    "print(y.shape)\n",
    "print(adjacency_dict[0])\n",
    "print(train_mask.shape)\n",
    "print(val_mask.shape)\n",
    "print(test_mask.shape)"
   ]
  },
  {
   "cell_type": "code",
   "execution_count": null,
   "id": "d53bc9f4-4e2a-4adf-9ce7-3e1d7aafdaac",
   "metadata": {},
   "outputs": [],
   "source": []
  }
 ],
 "metadata": {
  "kernelspec": {
   "display_name": "Python 3 (ipykernel)",
   "language": "python",
   "name": "python3"
  },
  "language_info": {
   "codemirror_mode": {
    "name": "ipython",
    "version": 3
   },
   "file_extension": ".py",
   "mimetype": "text/x-python",
   "name": "python",
   "nbconvert_exporter": "python",
   "pygments_lexer": "ipython3",
   "version": "3.9.16"
  }
 },
 "nbformat": 4,
 "nbformat_minor": 5
}
