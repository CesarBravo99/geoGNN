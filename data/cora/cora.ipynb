{
 "cells": [
  {
   "cell_type": "code",
   "execution_count": 1,
   "id": "17fbda66-7640-4022-834c-9f5edffbe257",
   "metadata": {
    "execution": {
     "iopub.execute_input": "2023-12-26T00:41:57.601071Z",
     "iopub.status.busy": "2023-12-26T00:41:57.600766Z",
     "iopub.status.idle": "2023-12-26T00:41:57.836292Z",
     "shell.execute_reply": "2023-12-26T00:41:57.834965Z",
     "shell.execute_reply.started": "2023-12-26T00:41:57.601042Z"
    }
   },
   "outputs": [],
   "source": [
    "from cora import CoraData"
   ]
  },
  {
   "cell_type": "code",
   "execution_count": 2,
   "id": "43926696-a12e-466f-8542-ef1aab857e62",
   "metadata": {
    "execution": {
     "iopub.execute_input": "2023-12-26T00:41:57.838340Z",
     "iopub.status.busy": "2023-12-26T00:41:57.837981Z",
     "iopub.status.idle": "2023-12-26T00:41:57.911262Z",
     "shell.execute_reply": "2023-12-26T00:41:57.910448Z",
     "shell.execute_reply.started": "2023-12-26T00:41:57.838311Z"
    }
   },
   "outputs": [
    {
     "name": "stdout",
     "output_type": "stream",
     "text": [
      "weights.pkl\n",
      "Process data ...\n",
      "Node's feature shape:  (2708, 1433)\n",
      "Node's label shape:  (2708,)\n",
      "Adjacency's shape:  2708\n",
      "Number of training nodes:  140\n",
      "Number of validation nodes:  500\n",
      "Number of test nodes:  1000\n",
      "Cached file: weights.pkl\n"
     ]
    }
   ],
   "source": [
    "data = CoraData(\"\", True).data"
   ]
  },
  {
   "cell_type": "markdown",
   "id": "ff33b1bf-7e39-40d3-8d31-a1bfaa7e7a7d",
   "metadata": {},
   "source": [
    "The Cora dataset consists of __2708 scientific publications__ classified into one of __seven classes (y vector)__. The citation network consists of 5429 links. Each publication in the dataset is described by a 0/1-valued word vector indicating the absence/presence of the corresponding word from the dictionary. The dictionary consists of __1433 unique words (x matrix)__.\n",
    "![cora](CoraBalloons.png) "
   ]
  },
  {
   "cell_type": "code",
   "execution_count": 21,
   "id": "f39ed7c6-1f73-4676-a05f-3587571b2315",
   "metadata": {
    "execution": {
     "iopub.execute_input": "2023-12-26T00:06:57.821286Z",
     "iopub.status.busy": "2023-12-26T00:06:57.820937Z",
     "iopub.status.idle": "2023-12-26T00:06:57.826247Z",
     "shell.execute_reply": "2023-12-26T00:06:57.825186Z",
     "shell.execute_reply.started": "2023-12-26T00:06:57.821259Z"
    }
   },
   "outputs": [],
   "source": [
    "x = data.x # 2708 x 1433 matrix \n",
    "y = data.y # 2708 vector\n",
    "adjacency_dict = data.adjacency_dict # Dict with 2708 keys, the values repr. the neigh.\n",
    "train_mask = data.train_mask # 2708 boolean vector\n",
    "val_mask = data.val_mask # 2708 boolean vector\n",
    "test_mask = data.test_mask # 2708 boolean vector\n"
   ]
  },
  {
   "cell_type": "code",
   "execution_count": 31,
   "id": "34e0f93b-549d-4394-81f0-04cb94bd4625",
   "metadata": {
    "execution": {
     "iopub.execute_input": "2023-12-26T00:19:29.565961Z",
     "iopub.status.busy": "2023-12-26T00:19:29.565570Z",
     "iopub.status.idle": "2023-12-26T00:19:29.571883Z",
     "shell.execute_reply": "2023-12-26T00:19:29.570799Z",
     "shell.execute_reply.started": "2023-12-26T00:19:29.565933Z"
    }
   },
   "outputs": [
    {
     "name": "stdout",
     "output_type": "stream",
     "text": [
      "(2708, 1433)\n",
      "(2708,)\n",
      "[633, 1862, 2582]\n",
      "(2708,)\n",
      "(2708,)\n",
      "(2708,)\n"
     ]
    }
   ],
   "source": [
    "print(x.shape)\n",
    "print(y.shape)\n",
    "print(adjacency_dict[0])\n",
    "print(train_mask.shape)\n",
    "print(val_mask.shape)\n",
    "print(test_mask.shape)"
   ]
  },
  {
   "cell_type": "code",
   "execution_count": null,
   "id": "2e0279b3-47ad-44d7-8d58-95cc0fb9c27b",
   "metadata": {},
   "outputs": [],
   "source": []
  }
 ],
 "metadata": {
  "kernelspec": {
   "display_name": "Python 3 (ipykernel)",
   "language": "python",
   "name": "python3"
  },
  "language_info": {
   "codemirror_mode": {
    "name": "ipython",
    "version": 3
   },
   "file_extension": ".py",
   "mimetype": "text/x-python",
   "name": "python",
   "nbconvert_exporter": "python",
   "pygments_lexer": "ipython3",
   "version": "3.9.16"
  }
 },
 "nbformat": 4,
 "nbformat_minor": 5
}
