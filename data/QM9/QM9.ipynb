{
 "cells": [
  {
   "cell_type": "code",
   "execution_count": 1,
   "id": "7104520c-5376-4f12-92ac-ee5935985dfa",
   "metadata": {
    "execution": {
     "iopub.execute_input": "2023-12-26T21:55:01.729983Z",
     "iopub.status.busy": "2023-12-26T21:55:01.729662Z",
     "iopub.status.idle": "2023-12-26T21:55:05.233118Z",
     "shell.execute_reply": "2023-12-26T21:55:05.231910Z",
     "shell.execute_reply.started": "2023-12-26T21:55:01.729956Z"
    }
   },
   "outputs": [
    {
     "name": "stdout",
     "output_type": "stream",
     "text": [
      "Requirement already satisfied: torch_geometric in /usr/local/lib/python3.9/dist-packages (2.4.0)\n",
      "Requirement already satisfied: tqdm in /usr/local/lib/python3.9/dist-packages (from torch_geometric) (4.64.1)\n",
      "Requirement already satisfied: numpy in /usr/local/lib/python3.9/dist-packages (from torch_geometric) (1.23.4)\n",
      "Requirement already satisfied: pyparsing in /usr/local/lib/python3.9/dist-packages (from torch_geometric) (3.0.9)\n",
      "Requirement already satisfied: scipy in /usr/local/lib/python3.9/dist-packages (from torch_geometric) (1.9.2)\n",
      "Requirement already satisfied: psutil>=5.8.0 in /usr/local/lib/python3.9/dist-packages (from torch_geometric) (5.9.4)\n",
      "Requirement already satisfied: requests in /usr/local/lib/python3.9/dist-packages (from torch_geometric) (2.28.2)\n",
      "Requirement already satisfied: jinja2 in /usr/local/lib/python3.9/dist-packages (from torch_geometric) (3.1.2)\n",
      "Requirement already satisfied: scikit-learn in /usr/local/lib/python3.9/dist-packages (from torch_geometric) (1.1.2)\n",
      "Requirement already satisfied: MarkupSafe>=2.0 in /usr/local/lib/python3.9/dist-packages (from jinja2->torch_geometric) (2.1.2)\n",
      "Requirement already satisfied: certifi>=2017.4.17 in /usr/lib/python3/dist-packages (from requests->torch_geometric) (2019.11.28)\n",
      "Requirement already satisfied: urllib3<1.27,>=1.21.1 in /usr/local/lib/python3.9/dist-packages (from requests->torch_geometric) (1.26.14)\n",
      "Requirement already satisfied: idna<4,>=2.5 in /usr/lib/python3/dist-packages (from requests->torch_geometric) (2.8)\n",
      "Requirement already satisfied: charset-normalizer<4,>=2 in /usr/local/lib/python3.9/dist-packages (from requests->torch_geometric) (2.1.1)\n",
      "Requirement already satisfied: joblib>=1.0.0 in /usr/local/lib/python3.9/dist-packages (from scikit-learn->torch_geometric) (1.2.0)\n",
      "Requirement already satisfied: threadpoolctl>=2.0.0 in /usr/local/lib/python3.9/dist-packages (from scikit-learn->torch_geometric) (3.1.0)\n",
      "\u001b[33mWARNING: Running pip as the 'root' user can result in broken permissions and conflicting behaviour with the system package manager. It is recommended to use a virtual environment instead: https://pip.pypa.io/warnings/venv\u001b[0m\u001b[33m\n",
      "\u001b[0m"
     ]
    }
   ],
   "source": [
    "!pip install torch_geometric"
   ]
  },
  {
   "cell_type": "code",
   "execution_count": 2,
   "id": "ea247172-2686-449c-8ee9-50a94ef08391",
   "metadata": {
    "execution": {
     "iopub.execute_input": "2023-12-26T21:55:15.080737Z",
     "iopub.status.busy": "2023-12-26T21:55:15.080241Z",
     "iopub.status.idle": "2023-12-26T21:55:16.391813Z",
     "shell.execute_reply": "2023-12-26T21:55:16.390643Z",
     "shell.execute_reply.started": "2023-12-26T21:55:15.080694Z"
    }
   },
   "outputs": [],
   "source": [
    "import numpy as np\n",
    "import torch\n",
    "from torch_geometric.datasets import QM9"
   ]
  },
  {
   "cell_type": "code",
   "execution_count": 5,
   "id": "121e9422-965b-49b6-9367-c1c556b70469",
   "metadata": {
    "execution": {
     "iopub.execute_input": "2023-12-26T21:57:09.920346Z",
     "iopub.status.busy": "2023-12-26T21:57:09.919916Z",
     "iopub.status.idle": "2023-12-26T21:58:06.306438Z",
     "shell.execute_reply": "2023-12-26T21:58:06.305395Z",
     "shell.execute_reply.started": "2023-12-26T21:57:09.920316Z"
    }
   },
   "outputs": [
    {
     "name": "stderr",
     "output_type": "stream",
     "text": [
      "Downloading https://data.pyg.org/datasets/qm9_v3.zip\n",
      "Extracting /notebooks/datasets/QM9/QM9/raw/qm9_v3.zip\n",
      "Processing...\n",
      "Using a pre-processed version of the dataset. Please install 'rdkit' to alternatively process the raw data.\n",
      "Done!\n",
      "Using a pre-processed version of the dataset. Please install 'rdkit' to alternatively process the raw data.\n"
     ]
    }
   ],
   "source": [
    "dataset = QM9('/notebooks/datasets/QM9/QM9')\n",
    "dataset.process()"
   ]
  },
  {
   "cell_type": "code",
   "execution_count": 9,
   "id": "591abaa7-87fa-493d-8b7a-89b683952270",
   "metadata": {
    "execution": {
     "iopub.execute_input": "2023-12-26T21:58:41.217197Z",
     "iopub.status.busy": "2023-12-26T21:58:41.216376Z",
     "iopub.status.idle": "2023-12-26T21:58:41.400643Z",
     "shell.execute_reply": "2023-12-26T21:58:41.399798Z",
     "shell.execute_reply.started": "2023-12-26T21:58:41.217168Z"
    }
   },
   "outputs": [
    {
     "data": {
      "text/plain": [
       "(Data(x=[2359210, 11], edge_index=[2, 4883516], edge_attr=[4883516, 4], y=[130831, 19], pos=[2359210, 3], idx=[130831], name=[130831], z=[2359210]),\n",
       " defaultdict(dict,\n",
       "             {'x': tensor([      0,       5,       9,  ..., 2359176, 2359194, 2359210]),\n",
       "              'edge_index': tensor([      0,       8,      14,  ..., 4883432, 4883476, 4883516]),\n",
       "              'edge_attr': tensor([      0,       8,      14,  ..., 4883432, 4883476, 4883516]),\n",
       "              'y': tensor([     0,      1,      2,  ..., 130829, 130830, 130831]),\n",
       "              'pos': tensor([      0,       5,       9,  ..., 2359176, 2359194, 2359210]),\n",
       "              'idx': tensor([     0,      1,      2,  ..., 130829, 130830, 130831]),\n",
       "              'name': tensor([     0,      1,      2,  ..., 130829, 130830, 130831]),\n",
       "              'z': tensor([      0,       5,       9,  ..., 2359176, 2359194, 2359210])}))"
      ]
     },
     "execution_count": 9,
     "metadata": {},
     "output_type": "execute_result"
    }
   ],
   "source": [
    "data = torch.load('/notebooks/datasets/QM9/QM9/processed/data_v3.pt')\n",
    "data"
   ]
  },
  {
   "cell_type": "code",
   "execution_count": null,
   "id": "79b57abe-6026-4d7b-91c2-7d87d1935191",
   "metadata": {},
   "outputs": [],
   "source": []
  }
 ],
 "metadata": {
  "kernelspec": {
   "display_name": "Python 3 (ipykernel)",
   "language": "python",
   "name": "python3"
  },
  "language_info": {
   "codemirror_mode": {
    "name": "ipython",
    "version": 3
   },
   "file_extension": ".py",
   "mimetype": "text/x-python",
   "name": "python",
   "nbconvert_exporter": "python",
   "pygments_lexer": "ipython3",
   "version": "3.9.16"
  }
 },
 "nbformat": 4,
 "nbformat_minor": 5
}
