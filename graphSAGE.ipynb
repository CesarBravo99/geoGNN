{
 "cells": [
  {
   "cell_type": "code",
   "execution_count": 1,
   "id": "b9d31565-8d9a-4f31-9081-d713b1bf8963",
   "metadata": {
    "execution": {
     "iopub.status.idle": "2023-12-25T23:48:15.206961Z",
     "shell.execute_reply": "2023-12-25T23:48:15.205860Z",
     "shell.execute_reply.started": "2023-12-25T23:48:13.800589Z"
    }
   },
   "outputs": [],
   "source": [
    "from collections import namedtuple\n",
    "import numpy as np\n",
    "import matplotlib.pyplot as plt\n",
    "import torch\n",
    "import torch.nn as nn\n",
    "import torch.optim as optim\n",
    "from src.graphSAGE import GraphSage\n",
    "from data.cora.cora import CoraData\n",
    "from src.utils.sampling import multihop_sampling"
   ]
  },
  {
   "cell_type": "code",
   "execution_count": 2,
   "id": "2ec2fbf4-57fd-4bca-8074-8f6693bb4745",
   "metadata": {
    "execution": {
     "iopub.execute_input": "2023-12-25T23:48:18.427249Z",
     "iopub.status.busy": "2023-12-25T23:48:18.426238Z",
     "iopub.status.idle": "2023-12-25T23:48:18.436376Z",
     "shell.execute_reply": "2023-12-25T23:48:18.435740Z",
     "shell.execute_reply.started": "2023-12-25T23:48:18.427222Z"
    }
   },
   "outputs": [],
   "source": [
    "INPUT_DIM = 1433\n",
    "HIDDEN_DIM = [128, 7]\n",
    "NUM_NEIGHBORS_LIST = [10, 10]\n",
    "BTACH_SIZE = 16\n",
    "EPOCHS = 200\n",
    "NUM_BATCH_PER_EPOCH = 20\n",
    "LEARNING_RATE = 1e-3\n",
    "DEVICE = \"cuda\" if torch.cuda.is_available() else \"cpu\"\n",
    "assert len(HIDDEN_DIM) == len(NUM_NEIGHBORS_LIST)"
   ]
  },
  {
   "cell_type": "code",
   "execution_count": 5,
   "id": "88b63ff6-8eaa-4718-91b5-2c53f3a6e621",
   "metadata": {
    "execution": {
     "iopub.execute_input": "2023-12-25T23:48:41.687343Z",
     "iopub.status.busy": "2023-12-25T23:48:41.687020Z",
     "iopub.status.idle": "2023-12-25T23:48:41.727166Z",
     "shell.execute_reply": "2023-12-25T23:48:41.726460Z",
     "shell.execute_reply.started": "2023-12-25T23:48:41.687318Z"
    }
   },
   "outputs": [
    {
     "name": "stdout",
     "output_type": "stream",
     "text": [
      "/notebooks/data/cora/weights.pkl\n",
      "Using Cached file: /notebooks/data/cora/weights.pkl\n"
     ]
    }
   ],
   "source": [
    "data = CoraData().data\n",
    "x = data.x / data.x.sum(1, keepdims=True)\n",
    "\n",
    "train_index = np.where(data.train_mask)[0]\n",
    "train_label = data.y\n",
    "test_index = np.where(data.test_mask)[0]"
   ]
  },
  {
   "cell_type": "code",
   "execution_count": 6,
   "id": "1feced24-8334-4010-a4f3-eeaa33ddc48c",
   "metadata": {
    "execution": {
     "iopub.execute_input": "2023-12-25T23:48:45.197408Z",
     "iopub.status.busy": "2023-12-25T23:48:45.196047Z",
     "iopub.status.idle": "2023-12-25T23:48:47.181100Z",
     "shell.execute_reply": "2023-12-25T23:48:47.180420Z",
     "shell.execute_reply.started": "2023-12-25T23:48:45.197357Z"
    }
   },
   "outputs": [
    {
     "name": "stdout",
     "output_type": "stream",
     "text": [
      "GraphSage(\n",
      "  in_features=1433, num_neighbors_list=[10, 10]\n",
      "  (gcn): ModuleList(\n",
      "    (0): SageGCN(\n",
      "      in_features=1433, out_features=128, aggr_hidden_method=sum\n",
      "      (aggregator): NeighborAggregator(in_features=1433, out_features=128, aggr_method=mean)\n",
      "    )\n",
      "    (1): SageGCN(\n",
      "      in_features=128, out_features=7, aggr_hidden_method=sum\n",
      "      (aggregator): NeighborAggregator(in_features=128, out_features=7, aggr_method=mean)\n",
      "    )\n",
      "  )\n",
      ")\n"
     ]
    }
   ],
   "source": [
    "model = GraphSage(input_dim=INPUT_DIM, hidden_dim=HIDDEN_DIM,\n",
    "                  num_neighbors_list=NUM_NEIGHBORS_LIST).to(DEVICE)\n",
    "print(model)\n",
    "criterion = nn.CrossEntropyLoss().to(DEVICE)\n",
    "optimizer = optim.Adam(model.parameters(), lr=LEARNING_RATE)\n"
   ]
  },
  {
   "cell_type": "code",
   "execution_count": 12,
   "id": "bf51be03-26b8-4e05-8845-75cbfa62d407",
   "metadata": {
    "execution": {
     "iopub.execute_input": "2023-12-21T15:51:22.762730Z",
     "iopub.status.busy": "2023-12-21T15:51:22.761917Z",
     "iopub.status.idle": "2023-12-21T15:54:13.806588Z",
     "shell.execute_reply": "2023-12-21T15:54:13.805631Z",
     "shell.execute_reply.started": "2023-12-21T15:51:22.762685Z"
    }
   },
   "outputs": [
    {
     "name": "stdout",
     "output_type": "stream",
     "text": [
      "Epoch 000 Loss: 1.6535\n",
      "Epoch 010 Loss: 0.0937\n",
      "Epoch 020 Loss: 0.0312\n",
      "Epoch 030 Loss: 0.0087\n",
      "Epoch 040 Loss: 0.0064\n",
      "Epoch 050 Loss: 0.0041\n",
      "Epoch 060 Loss: 0.0047\n",
      "Epoch 070 Loss: 0.0020\n",
      "Epoch 080 Loss: 0.0020\n",
      "Epoch 090 Loss: 0.0016\n",
      "Epoch 100 Loss: 0.0008\n",
      "Epoch 110 Loss: 0.0007\n",
      "Epoch 120 Loss: 0.0007\n",
      "Epoch 130 Loss: 0.0004\n",
      "Epoch 140 Loss: 0.0007\n",
      "Epoch 150 Loss: 0.0005\n",
      "Epoch 160 Loss: 0.0004\n",
      "Epoch 170 Loss: 0.0002\n",
      "Epoch 180 Loss: 0.0003\n",
      "Epoch 190 Loss: 0.0003\n"
     ]
    }
   ],
   "source": [
    "def train(epochs):\n",
    "    accuracy = []\n",
    "    model.train()\n",
    "    for e in range(epochs):\n",
    "        for batch in range(NUM_BATCH_PER_EPOCH):\n",
    "            batch_src_index = np.random.choice(train_index, size=(BTACH_SIZE,))\n",
    "            batch_src_label = torch.from_numpy(train_label[batch_src_index]).long().to(DEVICE)\n",
    "            batch_sampling_result = multihop_sampling(batch_src_index, NUM_NEIGHBORS_LIST, data.adjacency_dict)\n",
    "            batch_sampling_x = [torch.from_numpy(x[idx]).float().to(DEVICE) for idx in batch_sampling_result]\n",
    "            batch_train_logits = model(batch_sampling_x)\n",
    "            loss = criterion(batch_train_logits, batch_src_label)\n",
    "            optimizer.zero_grad()\n",
    "            loss.backward()\n",
    "            optimizer.step()\n",
    "        if  e%10 == 0:\n",
    "            print(\"Epoch {:03d} Loss: {:.4f}\".format(e, loss.item()))\n",
    "        accuracy.append(test())\n",
    "    return accuracy\n",
    "\n",
    "\n",
    "def test():\n",
    "    model.eval()\n",
    "    with torch.no_grad():\n",
    "        test_sampling_result = multihop_sampling(test_index, NUM_NEIGHBORS_LIST, data.adjacency_dict)\n",
    "        test_x = [torch.from_numpy(x[idx]).float().to(DEVICE) for idx in test_sampling_result]\n",
    "        test_logits = model(test_x)\n",
    "        test_label = torch.from_numpy(data.y[test_index]).long().to(DEVICE)\n",
    "        predict_y = test_logits.max(1)[1]\n",
    "        accuracy = torch.eq(predict_y, test_label).float().mean().item()\n",
    "        return accuracy\n",
    "        \n",
    "accuracy = train(EPOCHS)"
   ]
  },
  {
   "cell_type": "code",
   "execution_count": 13,
   "id": "76950fc4-6ae0-4958-9e29-a13f843a9c21",
   "metadata": {
    "execution": {
     "iopub.execute_input": "2023-12-21T15:54:13.808767Z",
     "iopub.status.busy": "2023-12-21T15:54:13.808490Z",
     "iopub.status.idle": "2023-12-21T15:54:14.144193Z",
     "shell.execute_reply": "2023-12-21T15:54:14.143250Z",
     "shell.execute_reply.started": "2023-12-21T15:54:13.808742Z"
    }
   },
   "outputs": [
    {
     "data": {
      "text/plain": [
       "Text(0.5, 1.0, '0.76500004529953')"
      ]
     },
     "execution_count": 13,
     "metadata": {},
     "output_type": "execute_result"
    },
    {
     "data": {
      "image/png": "[encoded data removed]",
      "text/plain": [
       "<Figure size 640x480 with 1 Axes>"
      ]
     },
     "metadata": {},
     "output_type": "display_data"
    }
   ],
   "source": [
    "plt.plot(accuracy)\n",
    "plt.title(accuracy[-1])"
   ]
  },
  {
   "cell_type": "code",
   "execution_count": null,
   "id": "1378fabc-77bf-4d41-8fe7-346a9ad73391",
   "metadata": {},
   "outputs": [],
   "source": []
  }
 ],
 "metadata": {
  "kernelspec": {
   "display_name": "Python 3 (ipykernel)",
   "language": "python",
   "name": "python3"
  },
  "language_info": {
   "codemirror_mode": {
    "name": "ipython",
    "version": 3
   },
   "file_extension": ".py",
   "mimetype": "text/x-python",
   "name": "python",
   "nbconvert_exporter": "python",
   "pygments_lexer": "ipython3",
   "version": "3.9.16"
  }
 },
 "nbformat": 4,
 "nbformat_minor": 5
}
