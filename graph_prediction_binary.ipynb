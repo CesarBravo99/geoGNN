{
 "cells": [
  {
   "cell_type": "code",
   "execution_count": 65,
   "metadata": {
    "colab": {},
    "colab_type": "code",
    "execution": {
     "iopub.execute_input": "2024-01-09T13:24:25.816209Z",
     "iopub.status.busy": "2024-01-09T13:24:25.815772Z",
     "iopub.status.idle": "2024-01-09T13:24:25.822569Z",
     "shell.execute_reply": "2024-01-09T13:24:25.821495Z",
     "shell.execute_reply.started": "2024-01-09T13:24:25.816184Z"
    },
    "id": "CRHi8vpymFci"
   },
   "outputs": [],
   "source": [
    "import os\n",
    "import torch\n",
    "import torch.nn as nn\n",
    "import torch.nn.init as init\n",
    "import torch.nn.functional as F\n",
    "import torch.utils.data as data\n",
    "import torch.optim as optim\n",
    "import matplotlib.pyplot as plt\n",
    "\n",
    "import numpy as np\n",
    "import scipy.sparse as sp\n",
    "import pickle\n",
    "import pandas as pd\n",
    "import torch_scatter\n",
    "from collections import Counter\n",
    "\n",
    "\n",
    "from torch_geometric.datasets import TUDataset\n",
    "from torch_geometric.loader import DataLoader\n",
    "from torch_geometric.nn.models import GAT\n",
    "\n",
    "\n",
    "# from src.GAT import *\n",
    "# from data.TUDataset.PROTEINS import DDDataset\n"
   ]
  },
  {
   "cell_type": "markdown",
   "metadata": {},
   "source": [
    "##  MUTAG DATASET\n",
    "**Dataset Summary**\n",
    "\n",
    "The MUTAG dataset is 'a collection of nitroaromatic compounds and the goal is to predict their mutagenicity on Salmonella typhimurium'.\n",
    "\n",
    "\n",
    "**Supported Tasks and Leaderboards**\n",
    "\n",
    "MUTAG should be used for molecular property prediction (aiming to predict whether molecules have a mutagenic effect on a given bacterium or not), a binary classification task. The score used is accuracy, using a 10-fold cross-validation."
   ]
  },
  {
   "cell_type": "code",
   "execution_count": 66,
   "metadata": {
    "colab": {
     "base_uri": "https://localhost:8080/",
     "height": 102
    },
    "colab_type": "code",
    "execution": {
     "iopub.execute_input": "2024-01-09T13:24:34.721077Z",
     "iopub.status.busy": "2024-01-09T13:24:34.720718Z",
     "iopub.status.idle": "2024-01-09T13:24:34.736622Z",
     "shell.execute_reply": "2024-01-09T13:24:34.735725Z",
     "shell.execute_reply.started": "2024-01-09T13:24:34.721050Z"
    },
    "id": "unoZOcTqeFuI",
    "outputId": "31966846-ddf9-46e2-d561-8ff951556a7e"
   },
   "outputs": [],
   "source": [
    "dataset_directory = '/notebooks/data'\n",
    "dataset = TUDataset(root=dataset_directory, name='MUTAG')"
   ]
  },
  {
   "cell_type": "code",
   "execution_count": 67,
   "metadata": {
    "execution": {
     "iopub.execute_input": "2024-01-09T13:24:36.953526Z",
     "iopub.status.busy": "2024-01-09T13:24:36.952827Z",
     "iopub.status.idle": "2024-01-09T13:24:36.960921Z",
     "shell.execute_reply": "2024-01-09T13:24:36.959869Z",
     "shell.execute_reply.started": "2024-01-09T13:24:36.953498Z"
    }
   },
   "outputs": [
    {
     "name": "stdout",
     "output_type": "stream",
     "text": [
      "Number of training graphs: 150\n",
      "Number of test graphs: 38\n"
     ]
    }
   ],
   "source": [
    "torch.manual_seed(12345)\n",
    "dataset = dataset.shuffle()\n",
    "train_dataset = dataset[:int(len(dataset)*0.8)]\n",
    "test_dataset = dataset[int(len(dataset)*0.8):]\n",
    "\n",
    "print(f'Number of training graphs: {len(train_dataset)}')\n",
    "print(f'Number of test graphs: {len(test_dataset)}')"
   ]
  },
  {
   "cell_type": "code",
   "execution_count": 68,
   "metadata": {
    "execution": {
     "iopub.execute_input": "2024-01-09T13:24:38.473749Z",
     "iopub.status.busy": "2024-01-09T13:24:38.473125Z",
     "iopub.status.idle": "2024-01-09T13:24:38.478175Z",
     "shell.execute_reply": "2024-01-09T13:24:38.477289Z",
     "shell.execute_reply.started": "2024-01-09T13:24:38.473721Z"
    }
   },
   "outputs": [],
   "source": [
    "train_loader = DataLoader(train_dataset, batch_size=64, shuffle=True)\n",
    "test_loader = DataLoader(test_dataset, batch_size=64, shuffle=False)"
   ]
  },
  {
   "cell_type": "code",
   "execution_count": 69,
   "metadata": {
    "execution": {
     "iopub.execute_input": "2024-01-09T13:24:42.883508Z",
     "iopub.status.busy": "2024-01-09T13:24:42.882617Z",
     "iopub.status.idle": "2024-01-09T13:24:42.899628Z",
     "shell.execute_reply": "2024-01-09T13:24:42.898502Z",
     "shell.execute_reply.started": "2024-01-09T13:24:42.883479Z"
    }
   },
   "outputs": [
    {
     "name": "stdout",
     "output_type": "stream",
     "text": [
      "GCN(\n",
      "  (conv1): GCNConv(7, 64)\n",
      "  (conv2): GCNConv(64, 64)\n",
      "  (conv3): GCNConv(64, 64)\n",
      "  (lin): Linear(in_features=64, out_features=2, bias=True)\n",
      ")\n"
     ]
    }
   ],
   "source": [
    "from torch.nn import Linear\n",
    "import torch.nn.functional as F\n",
    "from torch_geometric.nn import GCNConv\n",
    "from torch_geometric.nn import global_mean_pool\n",
    "from torch_geometric.nn import global_add_pool\n",
    "\n",
    "\n",
    "class GCN(torch.nn.Module):\n",
    "    def __init__(self, in_channels, hidden_channels, out_channels):\n",
    "        super(GCN, self).__init__()\n",
    "        torch.manual_seed(12345)\n",
    "        self.conv1 = GCNConv(in_channels, hidden_channels)\n",
    "        self.conv2 = GCNConv(hidden_channels, hidden_channels)\n",
    "        self.conv3 = GCNConv(hidden_channels, hidden_channels)\n",
    "        self.lin = Linear(hidden_channels, out_channels)\n",
    "\n",
    "    def forward(self, x, edge_index, batch):\n",
    "        # 1. Obtain node embeddings \n",
    "        x = self.conv1(x, edge_index)\n",
    "        x = x.relu()\n",
    "        x = self.conv2(x, edge_index)\n",
    "        x = x.relu()\n",
    "        x = self.conv3(x, edge_index)\n",
    "\n",
    "        # 2. Readout layer\n",
    "        x = global_mean_pool(x, batch)  # [batch_size, hidden_channels]\n",
    "\n",
    "        # 3. Apply a final classifier\n",
    "        x = F.dropout(x, p=0.5, training=self.training)\n",
    "        x = self.lin(x)\n",
    "        \n",
    "        return x\n",
    "\n",
    "model = GCN(dataset.num_node_features, 64, dataset.num_classes)\n",
    "print(model)"
   ]
  },
  {
   "cell_type": "code",
   "execution_count": 72,
   "metadata": {
    "execution": {
     "iopub.execute_input": "2024-01-09T13:27:45.922469Z",
     "iopub.status.busy": "2024-01-09T13:27:45.921977Z",
     "iopub.status.idle": "2024-01-09T13:28:07.617811Z",
     "shell.execute_reply": "2024-01-09T13:28:07.617075Z",
     "shell.execute_reply.started": "2024-01-09T13:27:45.922430Z"
    }
   },
   "outputs": [
    {
     "name": "stdout",
     "output_type": "stream",
     "text": [
      "Epoch: 001, Train Acc: 0.6467, Test Acc: 0.7368\n",
      "Epoch: 002, Train Acc: 0.6467, Test Acc: 0.7368\n",
      "Epoch: 003, Train Acc: 0.6467, Test Acc: 0.7368\n",
      "Epoch: 004, Train Acc: 0.6467, Test Acc: 0.7368\n",
      "Epoch: 005, Train Acc: 0.6467, Test Acc: 0.7368\n",
      "Epoch: 006, Train Acc: 0.6533, Test Acc: 0.7368\n",
      "Epoch: 007, Train Acc: 0.7467, Test Acc: 0.7632\n",
      "Epoch: 008, Train Acc: 0.7267, Test Acc: 0.7632\n",
      "Epoch: 009, Train Acc: 0.7200, Test Acc: 0.7632\n",
      "Epoch: 010, Train Acc: 0.7133, Test Acc: 0.7895\n",
      "Epoch: 011, Train Acc: 0.7200, Test Acc: 0.7632\n",
      "Epoch: 012, Train Acc: 0.7200, Test Acc: 0.7895\n",
      "Epoch: 013, Train Acc: 0.7200, Test Acc: 0.7895\n",
      "Epoch: 014, Train Acc: 0.7133, Test Acc: 0.8421\n",
      "Epoch: 015, Train Acc: 0.7133, Test Acc: 0.8421\n",
      "Epoch: 016, Train Acc: 0.7533, Test Acc: 0.7368\n",
      "Epoch: 017, Train Acc: 0.7400, Test Acc: 0.7632\n",
      "Epoch: 018, Train Acc: 0.7133, Test Acc: 0.8421\n",
      "Epoch: 019, Train Acc: 0.7400, Test Acc: 0.7895\n",
      "Epoch: 020, Train Acc: 0.7533, Test Acc: 0.7368\n",
      "Epoch: 021, Train Acc: 0.7467, Test Acc: 0.7895\n",
      "Epoch: 022, Train Acc: 0.7467, Test Acc: 0.7895\n",
      "Epoch: 023, Train Acc: 0.7533, Test Acc: 0.7895\n",
      "Epoch: 024, Train Acc: 0.7267, Test Acc: 0.8421\n",
      "Epoch: 025, Train Acc: 0.7533, Test Acc: 0.7632\n",
      "Epoch: 026, Train Acc: 0.7533, Test Acc: 0.7632\n",
      "Epoch: 027, Train Acc: 0.7600, Test Acc: 0.8158\n",
      "Epoch: 028, Train Acc: 0.7533, Test Acc: 0.8421\n",
      "Epoch: 029, Train Acc: 0.7600, Test Acc: 0.7632\n",
      "Epoch: 030, Train Acc: 0.7600, Test Acc: 0.8158\n"
     ]
    }
   ],
   "source": [
    "model = GCN(dataset.num_node_features, 64, dataset.num_classes)\n",
    "optimizer = torch.optim.Adam(model.parameters(), lr=0.01)\n",
    "criterion = torch.nn.CrossEntropyLoss()\n",
    "\n",
    "def train(model):\n",
    "    model.train()\n",
    "    for batch in train_loader:\n",
    "        out = model(batch.x, batch.edge_index, batch.batch)\n",
    "        loss = criterion(out, batch.y)\n",
    "        loss.backward()\n",
    "        optimizer.step()\n",
    "        optimizer.zero_grad()\n",
    "\n",
    "def test(loader):\n",
    "    model.eval()\n",
    "    correct = 0\n",
    "    for data in loader:\n",
    "        out = model(data.x, data.edge_index, data.batch)  \n",
    "        pred = out.argmax(dim=1)  # Use the class with highest probability.\n",
    "        correct += int((pred == data.y).sum())  # Check against ground-truth labels.\n",
    "    return correct / len(loader.dataset)  # Derive ratio of correct predictions.\n",
    "\n",
    "\n",
    "for epoch in range(1, 31):\n",
    "    train(model)\n",
    "    train_acc = test(train_loader)\n",
    "    test_acc = test(test_loader)\n",
    "    print(f'Epoch: {epoch:03d}, Train Acc: {train_acc:.4f}, Test Acc: {test_acc:.4f}')"
   ]
  },
  {
   "cell_type": "code",
   "execution_count": null,
   "metadata": {},
   "outputs": [],
   "source": []
  },
  {
   "cell_type": "code",
   "execution_count": null,
   "metadata": {
    "colab": {},
    "colab_type": "code",
    "id": "B5cDpOhEtdcS"
   },
   "outputs": [],
   "source": []
  },
  {
   "cell_type": "code",
   "execution_count": null,
   "metadata": {},
   "outputs": [],
   "source": []
  }
 ],
 "metadata": {
  "accelerator": "GPU",
  "colab": {
   "collapsed_sections": [
    "HxUtAD83iXXM",
    "uMVXEMXHmMcA",
    "6mMFB9HwmjQr",
    "FYxVK6Joot3b",
    "5qI94Tc3o0e3",
    "v1LbdCBEpM_j",
    "eYLIUNfHpW99"
   ],
   "name": "self_attn_pool.ipynb",
   "provenance": []
  },
  "kernelspec": {
   "display_name": "Python 3 (ipykernel)",
   "language": "python",
   "name": "python3"
  },
  "language_info": {
   "codemirror_mode": {
    "name": "ipython",
    "version": 3
   },
   "file_extension": ".py",
   "mimetype": "text/x-python",
   "name": "python",
   "nbconvert_exporter": "python",
   "pygments_lexer": "ipython3",
   "version": "3.9.16"
  }
 },
 "nbformat": 4,
 "nbformat_minor": 4
}
