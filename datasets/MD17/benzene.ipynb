{
 "cells": [
  {
   "cell_type": "code",
   "execution_count": 1,
   "id": "82599d65-f899-46c2-af32-6a6f4b3c0d8f",
   "metadata": {
    "execution": {
     "iopub.execute_input": "2023-12-26T21:42:39.798900Z",
     "iopub.status.busy": "2023-12-26T21:42:39.798214Z",
     "iopub.status.idle": "2023-12-26T21:42:44.740166Z",
     "shell.execute_reply": "2023-12-26T21:42:44.739057Z",
     "shell.execute_reply.started": "2023-12-26T21:42:39.798873Z"
    }
   },
   "outputs": [
    {
     "name": "stdout",
     "output_type": "stream",
     "text": [
      "Collecting torch_geometric\n",
      "  Downloading torch_geometric-2.4.0-py3-none-any.whl (1.0 MB)\n",
      "\u001b[2K     \u001b[90m━━━━━━━━━━━━━━━━━━━━━━━━━━━━━━━━━━━━━━━━\u001b[0m \u001b[32m1.0/1.0 MB\u001b[0m \u001b[31m43.1 MB/s\u001b[0m eta \u001b[36m0:00:00\u001b[0m\n",
      "\u001b[?25hRequirement already satisfied: pyparsing in /usr/local/lib/python3.9/dist-packages (from torch_geometric) (3.0.9)\n",
      "Requirement already satisfied: numpy in /usr/local/lib/python3.9/dist-packages (from torch_geometric) (1.23.4)\n",
      "Requirement already satisfied: scipy in /usr/local/lib/python3.9/dist-packages (from torch_geometric) (1.9.2)\n",
      "Requirement already satisfied: scikit-learn in /usr/local/lib/python3.9/dist-packages (from torch_geometric) (1.1.2)\n",
      "Requirement already satisfied: requests in /usr/local/lib/python3.9/dist-packages (from torch_geometric) (2.28.2)\n",
      "Requirement already satisfied: jinja2 in /usr/local/lib/python3.9/dist-packages (from torch_geometric) (3.1.2)\n",
      "Requirement already satisfied: tqdm in /usr/local/lib/python3.9/dist-packages (from torch_geometric) (4.64.1)\n",
      "Requirement already satisfied: psutil>=5.8.0 in /usr/local/lib/python3.9/dist-packages (from torch_geometric) (5.9.4)\n",
      "Requirement already satisfied: MarkupSafe>=2.0 in /usr/local/lib/python3.9/dist-packages (from jinja2->torch_geometric) (2.1.2)\n",
      "Requirement already satisfied: idna<4,>=2.5 in /usr/lib/python3/dist-packages (from requests->torch_geometric) (2.8)\n",
      "Requirement already satisfied: certifi>=2017.4.17 in /usr/lib/python3/dist-packages (from requests->torch_geometric) (2019.11.28)\n",
      "Requirement already satisfied: urllib3<1.27,>=1.21.1 in /usr/local/lib/python3.9/dist-packages (from requests->torch_geometric) (1.26.14)\n",
      "Requirement already satisfied: charset-normalizer<4,>=2 in /usr/local/lib/python3.9/dist-packages (from requests->torch_geometric) (2.1.1)\n",
      "Requirement already satisfied: threadpoolctl>=2.0.0 in /usr/local/lib/python3.9/dist-packages (from scikit-learn->torch_geometric) (3.1.0)\n",
      "Requirement already satisfied: joblib>=1.0.0 in /usr/local/lib/python3.9/dist-packages (from scikit-learn->torch_geometric) (1.2.0)\n",
      "Installing collected packages: torch_geometric\n",
      "Successfully installed torch_geometric-2.4.0\n",
      "\u001b[33mWARNING: Running pip as the 'root' user can result in broken permissions and conflicting behaviour with the system package manager. It is recommended to use a virtual environment instead: https://pip.pypa.io/warnings/venv\u001b[0m\u001b[33m\n",
      "\u001b[0m"
     ]
    }
   ],
   "source": [
    "!pip install torch_geometric"
   ]
  },
  {
   "cell_type": "code",
   "execution_count": 2,
   "id": "2fb67317-45e3-46a0-be78-661c1d561e25",
   "metadata": {
    "execution": {
     "iopub.execute_input": "2023-12-26T21:42:44.745802Z",
     "iopub.status.busy": "2023-12-26T21:42:44.745541Z",
     "iopub.status.idle": "2023-12-26T21:42:46.730788Z",
     "shell.execute_reply": "2023-12-26T21:42:46.729779Z",
     "shell.execute_reply.started": "2023-12-26T21:42:44.745772Z"
    }
   },
   "outputs": [],
   "source": [
    "import numpy as np\n",
    "import torch\n",
    "from torch_geometric.datasets import MD17"
   ]
  },
  {
   "cell_type": "code",
   "execution_count": 3,
   "id": "8970c490-4cd6-4da0-8e76-059587d4eaa6",
   "metadata": {
    "execution": {
     "iopub.execute_input": "2023-12-26T21:43:02.371942Z",
     "iopub.status.busy": "2023-12-26T21:43:02.370822Z",
     "iopub.status.idle": "2023-12-26T21:44:29.050443Z",
     "shell.execute_reply": "2023-12-26T21:44:29.049456Z",
     "shell.execute_reply.started": "2023-12-26T21:43:02.371900Z"
    }
   },
   "outputs": [
    {
     "name": "stderr",
     "output_type": "stream",
     "text": [
      "Downloading http://quantum-machine.org/gdml/data/npz/md17_benzene2017.npz\n",
      "Processing...\n",
      "Done!\n"
     ]
    }
   ],
   "source": [
    "name = 'benzene'\n",
    "dataset = MD17('/notebooks/datasets/MD17', name)\n",
    "dataset.process()"
   ]
  },
  {
   "cell_type": "markdown",
   "id": "fc5319ca-f2f8-4e3a-ae94-c1ea8dced30c",
   "metadata": {},
   "source": [
    "The dataset contains: \n",
    "\n",
    "- The Cartesian `positions` of atoms in Angstrom,\n",
    "- Their `atomic numbers`\n",
    "- The total `energy` in kcal/mol\n",
    "- The `forces` in kcal/mol/Angstrom on each atom.\n",
    "    \n",
    "The latter two are the regression targets for this collection. Specifically, the molecules are represented by chunks of 12 lines, each line represents a single atome of a given benzene molecule.\n",
    "\n",
    "Also, all this data is stores con `MD17/NAME/processed/data.pt`"
   ]
  },
  {
   "cell_type": "markdown",
   "id": "6c5f62ec-92f6-4e96-a379-c2819877162b",
   "metadata": {},
   "source": [
    "The following table corresponds to a summary of all the possible data sets handled by MD17.\n",
    "\n",
    "```python\n",
    "\n",
    "+--------------------+--------------------+-------------------------------+-----------+\n",
    "| Molecule           | Level of Theory    | Name                          | #Examples |\n",
    "+====================+====================+===============================+===========+\n",
    "| Benzene            | DFT                | :obj:`benzene`                | 627.983   |\n",
    "+--------------------+--------------------+-------------------------------+-----------+\n",
    "| Uracil             | DFT                | :obj:`uracil`                 | 133.770   |\n",
    "+--------------------+--------------------+-------------------------------+-----------+\n",
    "| Naphthalene        | DFT                | :obj:`napthalene`             | 326.250   |\n",
    "+--------------------+--------------------+-------------------------------+-----------+\n",
    "| Aspirin            | DFT                | :obj:`aspirin`                | 211.762   |\n",
    "+--------------------+--------------------+-------------------------------+-----------+\n",
    "| Salicylic acid     | DFT                | :obj:`salicylic acid`         | 320.231   |\n",
    "+--------------------+--------------------+-------------------------------+-----------+\n",
    "| Malonaldehyde      | DFT                | :obj:`malonaldehyde`          | 993.237   |\n",
    "+--------------------+--------------------+-------------------------------+-----------+\n",
    "| Ethanol            | DFT                | :obj:`ethanol`                | 555.092   |\n",
    "+--------------------+--------------------+-------------------------------+-----------+\n",
    "| Toluene            | DFT                | :obj:`toluene`                | 442.790   |\n",
    "+--------------------+--------------------+-------------------------------+-----------+\n",
    "| Paracetamol        | DFT                | :obj:`paracetamol`            | 106.490   |\n",
    "+--------------------+--------------------+-------------------------------+-----------+\n",
    "| Azobenzene         | DFT                | :obj:`azobenzene`             | 99.999    |\n",
    "+--------------------+--------------------+-------------------------------+-----------+\n",
    "| Benzene (R)        | DFT (PBE/def2-SVP) | :obj:`revised benzene`        | 100.000   |\n",
    "+--------------------+--------------------+-------------------------------+-----------+\n",
    "| Uracil (R)         | DFT (PBE/def2-SVP) | :obj:`revised uracil`         | 100.000   |\n",
    "+--------------------+--------------------+-------------------------------+-----------+\n",
    "| Naphthalene (R)    | DFT (PBE/def2-SVP) | :obj:`revised napthalene`     | 100.000   |\n",
    "+--------------------+--------------------+-------------------------------+-----------+\n",
    "| Aspirin (R)        | DFT (PBE/def2-SVP) | :obj:`revised aspirin`        | 100.000   |\n",
    "+--------------------+--------------------+-------------------------------+-----------+\n",
    "| Salicylic acid (R) | DFT (PBE/def2-SVP) | :obj:`revised salicylic acid` | 100.000   |\n",
    "+--------------------+--------------------+-------------------------------+-----------+\n",
    "| Malonaldehyde (R)  | DFT (PBE/def2-SVP) | :obj:`revised malonaldehyde`  | 100.000   |\n",
    "+--------------------+--------------------+-------------------------------+-----------+\n",
    "| Ethanol (R)        | DFT (PBE/def2-SVP) | :obj:`revised ethanol`        | 100.000   |\n",
    "+--------------------+--------------------+-------------------------------+-----------+\n",
    "| Toluene (R)        | DFT (PBE/def2-SVP) | :obj:`revised toluene`        | 100.000   |\n",
    "+--------------------+--------------------+-------------------------------+-----------+\n",
    "| Paracetamol (R)    | DFT (PBE/def2-SVP) | :obj:`revised paracetamol`    | 100.000   |\n",
    "+--------------------+--------------------+-------------------------------+-----------+\n",
    "| Azobenzene (R)     | DFT (PBE/def2-SVP) | :obj:`revised azobenzene`     | 99.988    |\n",
    "+--------------------+--------------------+-------------------------------+-----------+\n",
    "| Benzene            | CCSD(T)            | :obj:`benzene CCSD(T)`        | 1.500     |\n",
    "+--------------------+--------------------+-------------------------------+-----------+\n",
    "| Aspirin            | CCSD               | :obj:`aspirin CCSD`           | 1.500     |\n",
    "+--------------------+--------------------+-------------------------------+-----------+\n",
    "| Malonaldehyde      | CCSD(T)            | :obj:`malonaldehyde CCSD(T)`  | 1.500     |\n",
    "+--------------------+--------------------+-------------------------------+-----------+\n",
    "| Ethanol            | CCSD(T)            | :obj:`ethanol CCSD(T)`        | 2.000     |\n",
    "+--------------------+--------------------+-------------------------------+-----------+\n",
    "| Toluene            | CCSD(T)            | :obj:`toluene CCSD(T)`        | 1.501     |\n",
    "+--------------------+--------------------+-------------------------------+-----------+\n",
    "| Benzene            | DFT FHI-aims       | :obj:`benzene FHI-aims`       | 49.863    |\n",
    "+--------------------+--------------------+-------------------------------+-----------+\n",
    "\n",
    "```"
   ]
  },
  {
   "cell_type": "code",
   "execution_count": 5,
   "id": "8e992d2c-0439-4fa6-960e-27acd5db5103",
   "metadata": {
    "execution": {
     "iopub.execute_input": "2023-12-26T21:48:36.468153Z",
     "iopub.status.busy": "2023-12-26T21:48:36.467755Z",
     "iopub.status.idle": "2023-12-26T21:48:36.589030Z",
     "shell.execute_reply": "2023-12-26T21:48:36.587962Z",
     "shell.execute_reply.started": "2023-12-26T21:48:36.468110Z"
    }
   },
   "outputs": [
    {
     "name": "stdout",
     "output_type": "stream",
     "text": [
      "Data(pos=[7535796, 3], z=[7535796], energy=[627983], force=[7535796, 3])\n",
      "tensor([[   0.0000,    1.3970,    0.0000],\n",
      "        [   1.2098,    0.6985,    0.0000],\n",
      "        [   1.2098,   -0.6985,    0.0000],\n",
      "        ...,\n",
      "        [-177.5760,  196.8930, -167.1030],\n",
      "        [-176.2220,  199.0660, -167.0190],\n",
      "        [-177.0470,  200.9420, -165.6810]])\n",
      "tensor([6, 6, 6,  ..., 1, 1, 1])\n",
      "tensor([-146536.1094, -146536.1250, -146536.0938,  ..., -146528.2031,\n",
      "        -146528.1875, -146528.1094])\n",
      "tensor([[ 4.7385e-11, -3.8260e+00, -6.7172e-13],\n",
      "        [-3.2493e+00, -1.9419e+00, -3.4315e-13],\n",
      "        [-3.2493e+00,  1.9419e+00,  6.6742e-13],\n",
      "        ...,\n",
      "        [-1.1325e+00,  9.4016e+00,  1.8223e+00],\n",
      "        [ 2.0346e+01, -4.2068e+00, -4.6041e+00],\n",
      "        [-3.6244e+00, -4.3245e+00, -1.7331e+01]])\n"
     ]
    }
   ],
   "source": [
    "data = torch.load('/notebooks/datasets/MD17/benzene/processed/data.pt')[0]\n",
    "print(data)\n",
    "print(data['pos'])\n",
    "print(data['z'])\n",
    "print(data['energy'])\n",
    "print(data['force'])"
   ]
  },
  {
   "cell_type": "code",
   "execution_count": null,
   "id": "ea5d2c8a-10c2-4866-a667-4edafd19dce8",
   "metadata": {},
   "outputs": [],
   "source": []
  }
 ],
 "metadata": {
  "kernelspec": {
   "display_name": "Python 3 (ipykernel)",
   "language": "python",
   "name": "python3"
  },
  "language_info": {
   "codemirror_mode": {
    "name": "ipython",
    "version": 3
   },
   "file_extension": ".py",
   "mimetype": "text/x-python",
   "name": "python",
   "nbconvert_exporter": "python",
   "pygments_lexer": "ipython3",
   "version": "3.9.16"
  }
 },
 "nbformat": 4,
 "nbformat_minor": 5
}
