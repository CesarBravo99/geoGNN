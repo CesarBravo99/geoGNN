{
 "cells": [
  {
   "cell_type": "code",
   "execution_count": 1,
   "id": "506e7e42-98ef-40de-ac4c-06d915730f35",
   "metadata": {
    "execution": {
     "iopub.execute_input": "2024-01-09T15:48:23.934119Z",
     "iopub.status.busy": "2024-01-09T15:48:23.933782Z",
     "iopub.status.idle": "2024-01-09T15:48:26.328936Z",
     "shell.execute_reply": "2024-01-09T15:48:26.327741Z",
     "shell.execute_reply.started": "2024-01-09T15:48:23.934092Z"
    }
   },
   "outputs": [],
   "source": [
    "import os\n",
    "import torch\n",
    "import torch.nn as nn\n",
    "import torch.nn.init as init\n",
    "import torch.nn.functional as F\n",
    "import torch.utils.data as data\n",
    "import torch.optim as optim\n",
    "import matplotlib.pyplot as plt\n",
    "\n",
    "import numpy as np\n",
    "import scipy.sparse as sp\n",
    "import pickle\n",
    "import pandas as pd\n",
    "import torch_scatter\n",
    "from collections import Counter\n",
    "\n",
    "\n",
    "from torch_geometric.datasets import TUDataset\n",
    "from torch_geometric.datasets import MD17\n",
    "from torch_geometric.loader import DataLoader\n",
    "from torch_geometric.nn.models import GAT\n",
    "\n"
   ]
  },
  {
   "cell_type": "code",
   "execution_count": 10,
   "id": "3e743396-59ad-4cb5-b62c-e13234964fa9",
   "metadata": {
    "execution": {
     "iopub.execute_input": "2024-01-09T16:02:11.336740Z",
     "iopub.status.busy": "2024-01-09T16:02:11.335528Z",
     "iopub.status.idle": "2024-01-09T16:03:00.118443Z",
     "shell.execute_reply": "2024-01-09T16:03:00.117435Z",
     "shell.execute_reply.started": "2024-01-09T16:02:11.336697Z"
    }
   },
   "outputs": [
    {
     "name": "stderr",
     "output_type": "stream",
     "text": [
      "Downloading http://quantum-machine.org/gdml/data/npz/md17_benzene2017.npz\n",
      "Processing...\n",
      "Done!\n"
     ]
    },
    {
     "data": {
      "text/plain": [
       "Data(pos=[12, 3], z=[12], energy=[1], force=[12, 3], edge_index=[2, 132], edge_attr=[132, 1])"
      ]
     },
     "execution_count": 10,
     "metadata": {},
     "output_type": "execute_result"
    }
   ],
   "source": [
    "import torch_geometric.transforms as T\n",
    "\n",
    "max_nodes = 150\n",
    "class MyFilter(object):\n",
    "    def __call__(self, data):\n",
    "        return data.num_nodes <= max_nodes\n",
    "\n",
    "    \n",
    "dataset_directory = '/notebooks/data'\n",
    "# dataset = MD17(root=dataset_directory, name='benzene', transform=T.Compose([T.RadiusGraph(1e2), T.Distance(), T.ToDense()]))\n",
    "dataset = MD17(root=dataset_directory, name='benzene', transform=T.Compose([T.RadiusGraph(1e2), T.Distance()]))\n",
    "dataset[0]"
   ]
  },
  {
   "cell_type": "code",
   "execution_count": 8,
   "id": "09bf93fd-fbc5-4055-861d-84854428d66d",
   "metadata": {
    "execution": {
     "iopub.execute_input": "2024-01-09T15:54:39.119782Z",
     "iopub.status.busy": "2024-01-09T15:54:39.118700Z",
     "iopub.status.idle": "2024-01-09T15:54:39.129893Z",
     "shell.execute_reply": "2024-01-09T15:54:39.129164Z",
     "shell.execute_reply.started": "2024-01-09T15:54:39.119752Z"
    }
   },
   "outputs": [
    {
     "data": {
      "text/plain": [
       "<matplotlib.image.AxesImage at 0x7ff3f02442b0>"
      ]
     },
     "execution_count": 9,
     "metadata": {},
     "output_type": "execute_result"
    },
    {
     "data": {
      "image/png": "[encoded data removed]",
      "text/plain": [
       "<Figure size 640x480 with 1 Axes>"
      ]
     },
     "metadata": {},
     "output_type": "display_data"
    }
   ],
   "source": [
    "plt.spy(np.matrix(dataset[0].adj.numpy())"
   ]
  },
  {
   "cell_type": "code",
   "execution_count": 2,
   "id": "6a8210f5-3a9d-4bdd-a34f-e39b83257570",
   "metadata": {
    "execution": {
     "iopub.execute_input": "2024-01-11T18:13:47.446541Z",
     "iopub.status.busy": "2024-01-11T18:13:47.445228Z",
     "iopub.status.idle": "2024-01-11T18:13:49.584347Z",
     "shell.execute_reply": "2024-01-11T18:13:49.582895Z",
     "shell.execute_reply.started": "2024-01-11T18:13:47.446541Z"
    }
   },
   "outputs": [],
   "source": [
    "import os.path as osp\n",
    "\n",
    "import torch\n",
    "from sklearn.metrics import roc_auc_score\n",
    "\n",
    "import torch_geometric.transforms as T\n",
    "from torch_geometric.datasets import Planetoid\n",
    "from torch_geometric.nn import GCNConv\n",
    "from torch_geometric.utils import negative_sampling\n",
    "\n",
    "if torch.cuda.is_available():\n",
    "    device = torch.device('cuda')\n",
    "elif hasattr(torch.backends, 'mps') and torch.backends.mps.is_available():\n",
    "    device = torch.device('mps')\n",
    "else:\n",
    "    device = torch.device('cpu')\n",
    "\n",
    "transform = T.Compose([\n",
    "    T.NormalizeFeatures(),\n",
    "    T.ToDevice(device),\n",
    "    T.RandomLinkSplit(num_val=0.05, num_test=0.1, is_undirected=True,\n",
    "                      add_negative_train_samples=False),\n",
    "])\n",
    "path = '/notebooks/data'\n",
    "dataset = Planetoid(path, name='Cora', transform=transform)\n",
    "# After applying the `RandomLinkSplit` transform, the data is transformed from\n",
    "# a data object to a list of tuples (train_data, val_data, test_data), with\n",
    "# each element representing the corresponding split.\n",
    "train_data, val_data, test_data = dataset[0]\n"
   ]
  },
  {
   "cell_type": "code",
   "execution_count": 3,
   "id": "ef197fc9-51e0-4955-98ca-375fd943b7c4",
   "metadata": {
    "execution": {
     "iopub.execute_input": "2024-01-11T18:13:54.904319Z",
     "iopub.status.busy": "2024-01-11T18:13:54.903120Z",
     "iopub.status.idle": "2024-01-11T18:13:54.944034Z",
     "shell.execute_reply": "2024-01-11T18:13:54.942883Z",
     "shell.execute_reply.started": "2024-01-11T18:13:54.904288Z"
    }
   },
   "outputs": [],
   "source": [
    "class Net(torch.nn.Module):\n",
    "    def __init__(self, in_channels, hidden_channels, out_channels):\n",
    "        super().__init__()\n",
    "        self.conv1 = GCNConv(in_channels, hidden_channels)\n",
    "        self.conv2 = GCNConv(hidden_channels, out_channels)\n",
    "\n",
    "    def encode(self, x, edge_index):\n",
    "        x = self.conv1(x, edge_index).relu()\n",
    "        return self.conv2(x, edge_index)\n",
    "\n",
    "    def decode(self, z, edge_label_index):\n",
    "        return (z[edge_label_index[0]] * z[edge_label_index[1]]).sum(dim=-1)\n",
    "\n",
    "    def decode_all(self, z):\n",
    "        prob_adj = z @ z.t()\n",
    "        return (prob_adj > 0).nonzero(as_tuple=False).t()\n",
    "\n",
    "\n",
    "model = Net(dataset.num_features, 128, 64).to(device)\n",
    "optimizer = torch.optim.Adam(params=model.parameters(), lr=0.01)\n",
    "criterion = torch.nn.BCEWithLogitsLoss()\n",
    "\n",
    "\n"
   ]
  },
  {
   "cell_type": "code",
   "execution_count": 4,
   "id": "26715a58-e135-4823-9a28-0f2ce24bbc3f",
   "metadata": {
    "execution": {
     "iopub.execute_input": "2024-01-11T18:13:55.799698Z",
     "iopub.status.busy": "2024-01-11T18:13:55.798805Z",
     "iopub.status.idle": "2024-01-11T18:13:55.808644Z",
     "shell.execute_reply": "2024-01-11T18:13:55.806972Z",
     "shell.execute_reply.started": "2024-01-11T18:13:55.799668Z"
    }
   },
   "outputs": [],
   "source": [
    "def train():\n",
    "    model.train()\n",
    "    optimizer.zero_grad()\n",
    "    z = model.encode(train_data.x, train_data.edge_index)\n",
    "\n",
    "    # We perform a new round of negative sampling for every training epoch:\n",
    "    neg_edge_index = negative_sampling(\n",
    "        edge_index=train_data.edge_index, num_nodes=train_data.num_nodes,\n",
    "        num_neg_samples=train_data.edge_label_index.size(1), method='sparse')\n",
    "\n",
    "    edge_label_index = torch.cat(\n",
    "        [train_data.edge_label_index, neg_edge_index],\n",
    "        dim=-1,\n",
    "    )\n",
    "    edge_label = torch.cat([\n",
    "        train_data.edge_label,\n",
    "        train_data.edge_label.new_zeros(neg_edge_index.size(1))\n",
    "    ], dim=0)\n",
    "\n",
    "    out = model.decode(z, edge_label_index).view(-1)\n",
    "    loss = criterion(out, edge_label)\n",
    "    loss.backward()\n",
    "    optimizer.step()\n",
    "    return loss\n",
    "\n",
    "\n",
    "@torch.no_grad()\n",
    "def test(data):\n",
    "    model.eval()\n",
    "    z = model.encode(data.x, data.edge_index)\n",
    "    out = model.decode(z, data.edge_label_index).view(-1).sigmoid()\n",
    "    return roc_auc_score(data.edge_label.cpu().numpy(), out.cpu().numpy())\n",
    "\n",
    "\n"
   ]
  },
  {
   "cell_type": "code",
   "execution_count": 5,
   "id": "7d392480-385a-4a7a-94d6-4e36b7c67497",
   "metadata": {
    "execution": {
     "iopub.execute_input": "2024-01-11T18:13:59.698264Z",
     "iopub.status.busy": "2024-01-11T18:13:59.697851Z",
     "iopub.status.idle": "2024-01-11T18:14:02.409896Z",
     "shell.execute_reply": "2024-01-11T18:14:02.408711Z",
     "shell.execute_reply.started": "2024-01-11T18:13:59.698236Z"
    }
   },
   "outputs": [
    {
     "name": "stdout",
     "output_type": "stream",
     "text": [
      "Epoch: 001, Loss: 0.6930, Val: 0.6881, Test: 0.6653\n",
      "Epoch: 002, Loss: 0.6815, Val: 0.6810, Test: 0.6622\n",
      "Epoch: 003, Loss: 0.7114, Val: 0.6844, Test: 0.6648\n",
      "Epoch: 004, Loss: 0.6772, Val: 0.6949, Test: 0.6695\n",
      "Epoch: 005, Loss: 0.6846, Val: 0.7068, Test: 0.6780\n",
      "Epoch: 006, Loss: 0.6887, Val: 0.7341, Test: 0.6947\n",
      "Epoch: 007, Loss: 0.6899, Val: 0.7373, Test: 0.6950\n",
      "Epoch: 008, Loss: 0.6897, Val: 0.7258, Test: 0.6832\n",
      "Epoch: 009, Loss: 0.6879, Val: 0.7189, Test: 0.6741\n",
      "Epoch: 010, Loss: 0.6843, Val: 0.7077, Test: 0.6677\n",
      "Epoch: 011, Loss: 0.6788, Val: 0.6954, Test: 0.6602\n",
      "Epoch: 012, Loss: 0.6752, Val: 0.6877, Test: 0.6547\n",
      "Epoch: 013, Loss: 0.6739, Val: 0.6879, Test: 0.6555\n",
      "Epoch: 014, Loss: 0.6704, Val: 0.7085, Test: 0.6744\n",
      "Epoch: 015, Loss: 0.6608, Val: 0.7381, Test: 0.7066\n",
      "Epoch: 016, Loss: 0.6563, Val: 0.7512, Test: 0.7210\n",
      "Epoch: 017, Loss: 0.6487, Val: 0.7485, Test: 0.7195\n",
      "Epoch: 018, Loss: 0.6368, Val: 0.7467, Test: 0.7171\n",
      "Epoch: 019, Loss: 0.6244, Val: 0.7622, Test: 0.7362\n",
      "Epoch: 020, Loss: 0.6111, Val: 0.7819, Test: 0.7619\n",
      "Epoch: 021, Loss: 0.6020, Val: 0.7790, Test: 0.7689\n",
      "Epoch: 022, Loss: 0.5876, Val: 0.7796, Test: 0.7652\n",
      "Epoch: 023, Loss: 0.5750, Val: 0.7811, Test: 0.7595\n",
      "Epoch: 024, Loss: 0.5884, Val: 0.7738, Test: 0.7617\n",
      "Epoch: 025, Loss: 0.5735, Val: 0.7743, Test: 0.7607\n",
      "Epoch: 026, Loss: 0.5732, Val: 0.7814, Test: 0.7603\n",
      "Epoch: 027, Loss: 0.5712, Val: 0.7822, Test: 0.7620\n",
      "Epoch: 028, Loss: 0.5625, Val: 0.7804, Test: 0.7630\n",
      "Epoch: 029, Loss: 0.5652, Val: 0.7839, Test: 0.7664\n",
      "Epoch: 030, Loss: 0.5613, Val: 0.7917, Test: 0.7711\n",
      "Epoch: 031, Loss: 0.5575, Val: 0.7971, Test: 0.7757\n",
      "Epoch: 032, Loss: 0.5528, Val: 0.8008, Test: 0.7812\n",
      "Epoch: 033, Loss: 0.5496, Val: 0.8017, Test: 0.7872\n",
      "Epoch: 034, Loss: 0.5467, Val: 0.8021, Test: 0.7902\n",
      "Epoch: 035, Loss: 0.5399, Val: 0.8053, Test: 0.7941\n",
      "Epoch: 036, Loss: 0.5391, Val: 0.8099, Test: 0.7972\n",
      "Epoch: 037, Loss: 0.5258, Val: 0.8123, Test: 0.8002\n",
      "Epoch: 038, Loss: 0.5277, Val: 0.8128, Test: 0.8040\n",
      "Epoch: 039, Loss: 0.5247, Val: 0.8152, Test: 0.8086\n",
      "Epoch: 040, Loss: 0.5251, Val: 0.8276, Test: 0.8195\n",
      "Epoch: 041, Loss: 0.5169, Val: 0.8410, Test: 0.8300\n",
      "Epoch: 042, Loss: 0.5133, Val: 0.8490, Test: 0.8378\n",
      "Epoch: 043, Loss: 0.4994, Val: 0.8525, Test: 0.8434\n",
      "Epoch: 044, Loss: 0.4946, Val: 0.8521, Test: 0.8455\n",
      "Epoch: 045, Loss: 0.4901, Val: 0.8550, Test: 0.8485\n",
      "Epoch: 046, Loss: 0.4907, Val: 0.8612, Test: 0.8523\n",
      "Epoch: 047, Loss: 0.4822, Val: 0.8651, Test: 0.8546\n",
      "Epoch: 048, Loss: 0.4882, Val: 0.8643, Test: 0.8547\n",
      "Epoch: 049, Loss: 0.4856, Val: 0.8642, Test: 0.8535\n",
      "Epoch: 050, Loss: 0.4878, Val: 0.8668, Test: 0.8546\n",
      "Epoch: 051, Loss: 0.4901, Val: 0.8730, Test: 0.8582\n",
      "Epoch: 052, Loss: 0.4872, Val: 0.8751, Test: 0.8586\n",
      "Epoch: 053, Loss: 0.4769, Val: 0.8757, Test: 0.8590\n",
      "Epoch: 054, Loss: 0.4829, Val: 0.8784, Test: 0.8600\n",
      "Epoch: 055, Loss: 0.4790, Val: 0.8824, Test: 0.8616\n",
      "Epoch: 056, Loss: 0.4718, Val: 0.8860, Test: 0.8636\n",
      "Epoch: 057, Loss: 0.4731, Val: 0.8887, Test: 0.8650\n",
      "Epoch: 058, Loss: 0.4717, Val: 0.8890, Test: 0.8657\n",
      "Epoch: 059, Loss: 0.4760, Val: 0.8894, Test: 0.8664\n",
      "Epoch: 060, Loss: 0.4681, Val: 0.8913, Test: 0.8673\n",
      "Epoch: 061, Loss: 0.4768, Val: 0.8941, Test: 0.8682\n",
      "Epoch: 062, Loss: 0.4691, Val: 0.8961, Test: 0.8697\n",
      "Epoch: 063, Loss: 0.4648, Val: 0.8961, Test: 0.8709\n",
      "Epoch: 064, Loss: 0.4690, Val: 0.8971, Test: 0.8721\n",
      "Epoch: 065, Loss: 0.4593, Val: 0.9003, Test: 0.8733\n",
      "Epoch: 066, Loss: 0.4612, Val: 0.9023, Test: 0.8740\n",
      "Epoch: 067, Loss: 0.4564, Val: 0.9029, Test: 0.8761\n",
      "Epoch: 068, Loss: 0.4571, Val: 0.9020, Test: 0.8793\n",
      "Epoch: 069, Loss: 0.4548, Val: 0.9010, Test: 0.8810\n",
      "Epoch: 070, Loss: 0.4486, Val: 0.9014, Test: 0.8819\n",
      "Epoch: 071, Loss: 0.4583, Val: 0.9035, Test: 0.8834\n",
      "Epoch: 072, Loss: 0.4505, Val: 0.9055, Test: 0.8851\n",
      "Epoch: 073, Loss: 0.4514, Val: 0.9074, Test: 0.8876\n",
      "Epoch: 074, Loss: 0.4499, Val: 0.9076, Test: 0.8883\n",
      "Epoch: 075, Loss: 0.4478, Val: 0.9070, Test: 0.8891\n",
      "Epoch: 076, Loss: 0.4492, Val: 0.9077, Test: 0.8911\n",
      "Epoch: 077, Loss: 0.4506, Val: 0.9087, Test: 0.8926\n",
      "Epoch: 078, Loss: 0.4470, Val: 0.9097, Test: 0.8938\n",
      "Epoch: 079, Loss: 0.4445, Val: 0.9093, Test: 0.8933\n",
      "Epoch: 080, Loss: 0.4507, Val: 0.9078, Test: 0.8935\n",
      "Epoch: 081, Loss: 0.4524, Val: 0.9085, Test: 0.8966\n",
      "Epoch: 082, Loss: 0.4440, Val: 0.9082, Test: 0.8983\n",
      "Epoch: 083, Loss: 0.4411, Val: 0.9093, Test: 0.8987\n",
      "Epoch: 084, Loss: 0.4379, Val: 0.9095, Test: 0.8979\n",
      "Epoch: 085, Loss: 0.4458, Val: 0.9091, Test: 0.8991\n",
      "Epoch: 086, Loss: 0.4422, Val: 0.9091, Test: 0.9021\n",
      "Epoch: 087, Loss: 0.4384, Val: 0.9092, Test: 0.9025\n",
      "Epoch: 088, Loss: 0.4363, Val: 0.9083, Test: 0.9011\n",
      "Epoch: 089, Loss: 0.4425, Val: 0.9071, Test: 0.8986\n",
      "Epoch: 090, Loss: 0.4455, Val: 0.9075, Test: 0.8997\n",
      "Epoch: 091, Loss: 0.4468, Val: 0.9099, Test: 0.9023\n",
      "Epoch: 092, Loss: 0.4357, Val: 0.9109, Test: 0.9033\n",
      "Epoch: 093, Loss: 0.4465, Val: 0.9099, Test: 0.9017\n",
      "Epoch: 094, Loss: 0.4354, Val: 0.9097, Test: 0.8994\n",
      "Epoch: 095, Loss: 0.4348, Val: 0.9097, Test: 0.8994\n",
      "Epoch: 096, Loss: 0.4424, Val: 0.9094, Test: 0.9008\n",
      "Epoch: 097, Loss: 0.4341, Val: 0.9094, Test: 0.9025\n",
      "Epoch: 098, Loss: 0.4367, Val: 0.9094, Test: 0.9027\n",
      "Epoch: 099, Loss: 0.4322, Val: 0.9089, Test: 0.9003\n",
      "Epoch: 100, Loss: 0.4411, Val: 0.9104, Test: 0.8978\n",
      "Final Test: 0.9033\n"
     ]
    }
   ],
   "source": [
    "best_val_auc = final_test_auc = 0\n",
    "for epoch in range(1, 101):\n",
    "    loss = train()\n",
    "    val_auc = test(val_data)\n",
    "    test_auc = test(test_data)\n",
    "    if val_auc > best_val_auc:\n",
    "        best_val_auc = val_auc\n",
    "        final_test_auc = test_auc\n",
    "    print(f'Epoch: {epoch:03d}, Loss: {loss:.4f}, Val: {val_auc:.4f}, '\n",
    "          f'Test: {test_auc:.4f}')\n",
    "\n",
    "print(f'Final Test: {final_test_auc:.4f}')\n",
    "\n",
    "z = model.encode(test_data.x, test_data.edge_index)\n",
    "final_edge_index = model.decode_all(z)"
   ]
  },
  {
   "cell_type": "code",
   "execution_count": null,
   "id": "e9f63f29-d5cf-4108-8c0a-ab0150e507ad",
   "metadata": {},
   "outputs": [],
   "source": []
  }
 ],
 "metadata": {
  "kernelspec": {
   "display_name": "Python 3 (ipykernel)",
   "language": "python",
   "name": "python3"
  },
  "language_info": {
   "codemirror_mode": {
    "name": "ipython",
    "version": 3
   },
   "file_extension": ".py",
   "mimetype": "text/x-python",
   "name": "python",
   "nbconvert_exporter": "python",
   "pygments_lexer": "ipython3",
   "version": "3.9.16"
  }
 },
 "nbformat": 4,
 "nbformat_minor": 5
}
