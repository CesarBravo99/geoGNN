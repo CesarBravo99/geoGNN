{
 "cells": [
  {
   "cell_type": "code",
   "execution_count": 3,
   "id": "0dadac1d-2d19-48a6-ad10-398a937e1cf0",
   "metadata": {
    "execution": {
     "iopub.execute_input": "2023-12-26T21:51:37.692332Z",
     "iopub.status.busy": "2023-12-26T21:51:37.691975Z",
     "iopub.status.idle": "2023-12-26T21:51:41.303646Z",
     "shell.execute_reply": "2023-12-26T21:51:41.302505Z",
     "shell.execute_reply.started": "2023-12-26T21:51:37.692306Z"
    }
   },
   "outputs": [
    {
     "name": "stdout",
     "output_type": "stream",
     "text": [
      "Requirement already satisfied: torch_geometric in /usr/local/lib/python3.9/dist-packages (2.4.0)\n",
      "Requirement already satisfied: pyparsing in /usr/local/lib/python3.9/dist-packages (from torch_geometric) (3.0.9)\n",
      "Requirement already satisfied: scipy in /usr/local/lib/python3.9/dist-packages (from torch_geometric) (1.9.2)\n",
      "Requirement already satisfied: jinja2 in /usr/local/lib/python3.9/dist-packages (from torch_geometric) (3.1.2)\n",
      "Requirement already satisfied: numpy in /usr/local/lib/python3.9/dist-packages (from torch_geometric) (1.23.4)\n",
      "Requirement already satisfied: requests in /usr/local/lib/python3.9/dist-packages (from torch_geometric) (2.28.2)\n",
      "Requirement already satisfied: tqdm in /usr/local/lib/python3.9/dist-packages (from torch_geometric) (4.64.1)\n",
      "Requirement already satisfied: scikit-learn in /usr/local/lib/python3.9/dist-packages (from torch_geometric) (1.1.2)\n",
      "Requirement already satisfied: psutil>=5.8.0 in /usr/local/lib/python3.9/dist-packages (from torch_geometric) (5.9.4)\n",
      "Requirement already satisfied: MarkupSafe>=2.0 in /usr/local/lib/python3.9/dist-packages (from jinja2->torch_geometric) (2.1.2)\n",
      "Requirement already satisfied: charset-normalizer<4,>=2 in /usr/local/lib/python3.9/dist-packages (from requests->torch_geometric) (2.1.1)\n",
      "Requirement already satisfied: urllib3<1.27,>=1.21.1 in /usr/local/lib/python3.9/dist-packages (from requests->torch_geometric) (1.26.14)\n",
      "Requirement already satisfied: idna<4,>=2.5 in /usr/lib/python3/dist-packages (from requests->torch_geometric) (2.8)\n",
      "Requirement already satisfied: certifi>=2017.4.17 in /usr/lib/python3/dist-packages (from requests->torch_geometric) (2019.11.28)\n",
      "Requirement already satisfied: joblib>=1.0.0 in /usr/local/lib/python3.9/dist-packages (from scikit-learn->torch_geometric) (1.2.0)\n",
      "Requirement already satisfied: threadpoolctl>=2.0.0 in /usr/local/lib/python3.9/dist-packages (from scikit-learn->torch_geometric) (3.1.0)\n",
      "\u001b[33mWARNING: Running pip as the 'root' user can result in broken permissions and conflicting behaviour with the system package manager. It is recommended to use a virtual environment instead: https://pip.pypa.io/warnings/venv\u001b[0m\u001b[33m\n",
      "\u001b[0m"
     ]
    }
   ],
   "source": [
    "!pip install torch_geometric"
   ]
  },
  {
   "cell_type": "code",
   "execution_count": 6,
   "id": "9db68e6d-b69b-477a-a24d-917ea6c9dd04",
   "metadata": {
    "execution": {
     "iopub.execute_input": "2023-12-26T21:52:27.696459Z",
     "iopub.status.busy": "2023-12-26T21:52:27.696115Z",
     "iopub.status.idle": "2023-12-26T21:52:27.700810Z",
     "shell.execute_reply": "2023-12-26T21:52:27.699871Z",
     "shell.execute_reply.started": "2023-12-26T21:52:27.696432Z"
    }
   },
   "outputs": [],
   "source": [
    "import numpy as np\n",
    "import torch\n",
    "from torch_geometric.datasets import TUDataset"
   ]
  },
  {
   "cell_type": "code",
   "execution_count": 7,
   "id": "a7b6f646-6d57-41c4-9a8c-614fcc417f33",
   "metadata": {
    "execution": {
     "iopub.execute_input": "2023-12-26T21:52:28.488061Z",
     "iopub.status.busy": "2023-12-26T21:52:28.487704Z",
     "iopub.status.idle": "2023-12-26T21:52:31.520863Z",
     "shell.execute_reply": "2023-12-26T21:52:31.519980Z",
     "shell.execute_reply.started": "2023-12-26T21:52:28.488037Z"
    }
   },
   "outputs": [
    {
     "name": "stderr",
     "output_type": "stream",
     "text": [
      "Downloading https://www.chrsmrrs.com/graphkerneldatasets/PROTEINS.zip\n",
      "Extracting /notebooks/datasets/TUDataset/PROTEINS/PROTEINS.zip\n",
      "Processing...\n",
      "Done!\n"
     ]
    }
   ],
   "source": [
    "name = 'PROTEINS'\n",
    "dataset = TUDataset('/notebooks/datasets/TUDataset', name)\n",
    "dataset.process()"
   ]
  },
  {
   "cell_type": "markdown",
   "id": "1a7ac95f-0017-4ad8-a514-498f2800da10",
   "metadata": {},
   "source": [
    "D&D is a dataset of __1178 protein structures__ (Dobson and Doig, 2003). Each protein is \n",
    "represented by a graph, in which the nodes are amino acids and two nodes are connected \n",
    "by an edge if they are less than 6 Angstroms apart. __The prediction task is to classify \n",
    "the protein structures into enzymes and non-enzymes__.\n",
    "\n",
    "All the data is contained in the following files\n",
    "1. `DD_A.txt`: Matrix of $1.686.092\\times 2$ where each row represents a node link (node_id, node_id)\n",
    "\n",
    "2. `DD_graph_indicator.txt`: Matrix of $334.925\\times 2$ where each row contains the graph_id and the node_id\n",
    "\n",
    "3. `DD_graph_labels.txt`: Vector of $1.178$ which contains the class labels for all graphs in the dataset, the value in the i-th line is the class label of the graph with graph_id i\n",
    "\n",
    "4. `DD_node_labels.txt`: Vector of $334.925$ with node labels, the value in the i-th row corresponds to the node with node_id i"
   ]
  },
  {
   "cell_type": "code",
   "execution_count": 12,
   "id": "ce820e8b-37e5-40d5-bd60-f97d060e6403",
   "metadata": {
    "execution": {
     "iopub.execute_input": "2023-12-26T21:53:51.619592Z",
     "iopub.status.busy": "2023-12-26T21:53:51.619173Z",
     "iopub.status.idle": "2023-12-26T21:53:51.647581Z",
     "shell.execute_reply": "2023-12-26T21:53:51.646711Z",
     "shell.execute_reply.started": "2023-12-26T21:53:51.619564Z"
    }
   },
   "outputs": [
    {
     "data": {
      "text/plain": [
       "({'x': tensor([[23.,  1.,  0.,  0.],\n",
       "          [10.,  1.,  0.,  0.],\n",
       "          [25.,  1.,  0.,  0.],\n",
       "          ...,\n",
       "          [ 4.,  0.,  0.,  1.],\n",
       "          [ 4.,  0.,  0.,  1.],\n",
       "          [ 4.,  0.,  0.,  1.]]),\n",
       "  'edge_index': tensor([[ 0,  0,  0,  ..., 39, 39, 39],\n",
       "          [11, 22, 32,  ...,  7, 37, 38]]),\n",
       "  'y': tensor([0, 0, 0,  ..., 1, 1, 1])},\n",
       " {'edge_index': tensor([     0,    162,    254,  ..., 161922, 161940, 162088]),\n",
       "  'x': tensor([    0,    42,    69,  ..., 43426, 43431, 43471]),\n",
       "  'y': tensor([   0,    1,    2,  ..., 1111, 1112, 1113])},\n",
       " {'num_node_attributes': 1,\n",
       "  'num_node_labels': 3,\n",
       "  'num_edge_attributes': 0,\n",
       "  'num_edge_labels': 0})"
      ]
     },
     "execution_count": 12,
     "metadata": {},
     "output_type": "execute_result"
    }
   ],
   "source": [
    "data = torch.load('/notebooks/datasets/TUDataset/PROTEINS/processed/data.pt')\n",
    "data"
   ]
  },
  {
   "cell_type": "code",
   "execution_count": null,
   "id": "da0c51f3-3ca2-443a-997b-d703dc47ace6",
   "metadata": {},
   "outputs": [],
   "source": [
    "# print(f'Adjacency: {dataset.sparse_adjacency.shape}')\n",
    "# print(f'Node labels: {dataset.node_labels.shape}')\n",
    "# print(f'Node features: {dataset.node_labels.shape}')\n",
    "# print(f'Graph indicator: {dataset.graph_indicator.shape}')\n",
    "# print(f'Graph labels: {dataset.graph_labels.shape}')\n",
    "# print(f'Train data: {dataset.train_index.shape}')\n",
    "# print(f'Test data: {dataset.test_index.shape}')"
   ]
  }
 ],
 "metadata": {
  "kernelspec": {
   "display_name": "Python 3 (ipykernel)",
   "language": "python",
   "name": "python3"
  },
  "language_info": {
   "codemirror_mode": {
    "name": "ipython",
    "version": 3
   },
   "file_extension": ".py",
   "mimetype": "text/x-python",
   "name": "python",
   "nbconvert_exporter": "python",
   "pygments_lexer": "ipython3",
   "version": "3.9.16"
  }
 },
 "nbformat": 4,
 "nbformat_minor": 5
}
